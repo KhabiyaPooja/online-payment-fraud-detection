{
 "cells": [
  {
   "cell_type": "code",
   "execution_count": 24,
   "id": "f977cf44",
   "metadata": {},
   "outputs": [],
   "source": [
    "#Importing the basic librarires for analysis\n",
    "import numpy as np\n",
    "import pandas as pd\n",
    "import matplotlib.pyplot as plt\n",
    "import seaborn as sns\n",
    "from math import sqrt\n",
    "from sklearn.metrics import confusion_matrix\n",
    "import warnings\n",
    "warnings.filterwarnings('ignore')"
   ]
  },
  {
   "cell_type": "code",
   "execution_count": 25,
   "id": "9ea242f0",
   "metadata": {},
   "outputs": [],
   "source": [
    "#Importing the dataset\n",
    "df =pd.read_excel(r\"C:\\Users\\Pooja\\Desktop\\new_online payment.xlsx\")\n",
    "#df"
   ]
  },
  {
   "cell_type": "code",
   "execution_count": 26,
   "id": "1a932113",
   "metadata": {},
   "outputs": [
    {
     "data": {
      "text/html": [
       "<div>\n",
       "<style scoped>\n",
       "    .dataframe tbody tr th:only-of-type {\n",
       "        vertical-align: middle;\n",
       "    }\n",
       "\n",
       "    .dataframe tbody tr th {\n",
       "        vertical-align: top;\n",
       "    }\n",
       "\n",
       "    .dataframe thead th {\n",
       "        text-align: right;\n",
       "    }\n",
       "</style>\n",
       "<table border=\"1\" class=\"dataframe\">\n",
       "  <thead>\n",
       "    <tr style=\"text-align: right;\">\n",
       "      <th></th>\n",
       "      <th>step</th>\n",
       "      <th>type</th>\n",
       "      <th>amount</th>\n",
       "      <th>nameOrig</th>\n",
       "      <th>oldbalanceOrg</th>\n",
       "      <th>newbalanceOrig</th>\n",
       "      <th>nameDest</th>\n",
       "      <th>oldbalanceDest</th>\n",
       "      <th>newbalanceDest</th>\n",
       "      <th>isFraud</th>\n",
       "    </tr>\n",
       "  </thead>\n",
       "  <tbody>\n",
       "    <tr>\n",
       "      <th>0</th>\n",
       "      <td>1</td>\n",
       "      <td>PAYMENT</td>\n",
       "      <td>9839.64</td>\n",
       "      <td>C1231006815</td>\n",
       "      <td>170136.0</td>\n",
       "      <td>160296.36</td>\n",
       "      <td>M1979787155</td>\n",
       "      <td>0.0</td>\n",
       "      <td>0.0</td>\n",
       "      <td>0</td>\n",
       "    </tr>\n",
       "    <tr>\n",
       "      <th>1</th>\n",
       "      <td>1</td>\n",
       "      <td>PAYMENT</td>\n",
       "      <td>1864.28</td>\n",
       "      <td>C1666544295</td>\n",
       "      <td>21249.0</td>\n",
       "      <td>19384.72</td>\n",
       "      <td>M2044282225</td>\n",
       "      <td>0.0</td>\n",
       "      <td>0.0</td>\n",
       "      <td>0</td>\n",
       "    </tr>\n",
       "    <tr>\n",
       "      <th>2</th>\n",
       "      <td>1</td>\n",
       "      <td>TRANSFER</td>\n",
       "      <td>181.00</td>\n",
       "      <td>C1305486145</td>\n",
       "      <td>181.0</td>\n",
       "      <td>0.00</td>\n",
       "      <td>C553264065</td>\n",
       "      <td>0.0</td>\n",
       "      <td>0.0</td>\n",
       "      <td>1</td>\n",
       "    </tr>\n",
       "    <tr>\n",
       "      <th>3</th>\n",
       "      <td>1</td>\n",
       "      <td>CASH_OUT</td>\n",
       "      <td>181.00</td>\n",
       "      <td>C840083671</td>\n",
       "      <td>181.0</td>\n",
       "      <td>0.00</td>\n",
       "      <td>C38997010</td>\n",
       "      <td>21182.0</td>\n",
       "      <td>0.0</td>\n",
       "      <td>1</td>\n",
       "    </tr>\n",
       "    <tr>\n",
       "      <th>4</th>\n",
       "      <td>1</td>\n",
       "      <td>PAYMENT</td>\n",
       "      <td>11668.14</td>\n",
       "      <td>C2048537720</td>\n",
       "      <td>41554.0</td>\n",
       "      <td>29885.86</td>\n",
       "      <td>M1230701703</td>\n",
       "      <td>0.0</td>\n",
       "      <td>0.0</td>\n",
       "      <td>0</td>\n",
       "    </tr>\n",
       "  </tbody>\n",
       "</table>\n",
       "</div>"
      ],
      "text/plain": [
       "   step      type    amount     nameOrig  oldbalanceOrg  newbalanceOrig  \\\n",
       "0     1   PAYMENT   9839.64  C1231006815       170136.0       160296.36   \n",
       "1     1   PAYMENT   1864.28  C1666544295        21249.0        19384.72   \n",
       "2     1  TRANSFER    181.00  C1305486145          181.0            0.00   \n",
       "3     1  CASH_OUT    181.00   C840083671          181.0            0.00   \n",
       "4     1   PAYMENT  11668.14  C2048537720        41554.0        29885.86   \n",
       "\n",
       "      nameDest  oldbalanceDest  newbalanceDest  isFraud  \n",
       "0  M1979787155             0.0             0.0        0  \n",
       "1  M2044282225             0.0             0.0        0  \n",
       "2   C553264065             0.0             0.0        1  \n",
       "3    C38997010         21182.0             0.0        1  \n",
       "4  M1230701703             0.0             0.0        0  "
      ]
     },
     "execution_count": 26,
     "metadata": {},
     "output_type": "execute_result"
    }
   ],
   "source": [
    "df.head()"
   ]
  },
  {
   "cell_type": "code",
   "execution_count": 27,
   "id": "59b4317d",
   "metadata": {},
   "outputs": [
    {
     "data": {
      "text/html": [
       "<div>\n",
       "<style scoped>\n",
       "    .dataframe tbody tr th:only-of-type {\n",
       "        vertical-align: middle;\n",
       "    }\n",
       "\n",
       "    .dataframe tbody tr th {\n",
       "        vertical-align: top;\n",
       "    }\n",
       "\n",
       "    .dataframe thead th {\n",
       "        text-align: right;\n",
       "    }\n",
       "</style>\n",
       "<table border=\"1\" class=\"dataframe\">\n",
       "  <thead>\n",
       "    <tr style=\"text-align: right;\">\n",
       "      <th></th>\n",
       "      <th>step</th>\n",
       "      <th>type</th>\n",
       "      <th>amount</th>\n",
       "      <th>nameOrig</th>\n",
       "      <th>oldbalanceOrg</th>\n",
       "      <th>newbalanceOrig</th>\n",
       "      <th>nameDest</th>\n",
       "      <th>oldbalanceDest</th>\n",
       "      <th>newbalanceDest</th>\n",
       "      <th>isFraud</th>\n",
       "    </tr>\n",
       "  </thead>\n",
       "  <tbody>\n",
       "    <tr>\n",
       "      <th>99996</th>\n",
       "      <td>10</td>\n",
       "      <td>PAYMENT</td>\n",
       "      <td>18345.49</td>\n",
       "      <td>C744303677</td>\n",
       "      <td>6206.0</td>\n",
       "      <td>0.00</td>\n",
       "      <td>M1785344556</td>\n",
       "      <td>0.00</td>\n",
       "      <td>0.00</td>\n",
       "      <td>0</td>\n",
       "    </tr>\n",
       "    <tr>\n",
       "      <th>99997</th>\n",
       "      <td>10</td>\n",
       "      <td>CASH_IN</td>\n",
       "      <td>183774.91</td>\n",
       "      <td>C104331851</td>\n",
       "      <td>39173.0</td>\n",
       "      <td>222947.91</td>\n",
       "      <td>C36392889</td>\n",
       "      <td>54925.05</td>\n",
       "      <td>0.00</td>\n",
       "      <td>0</td>\n",
       "    </tr>\n",
       "    <tr>\n",
       "      <th>99998</th>\n",
       "      <td>10</td>\n",
       "      <td>CASH_OUT</td>\n",
       "      <td>82237.17</td>\n",
       "      <td>C707662966</td>\n",
       "      <td>6031.0</td>\n",
       "      <td>0.00</td>\n",
       "      <td>C1553004158</td>\n",
       "      <td>592635.66</td>\n",
       "      <td>799140.46</td>\n",
       "      <td>0</td>\n",
       "    </tr>\n",
       "    <tr>\n",
       "      <th>99999</th>\n",
       "      <td>10</td>\n",
       "      <td>PAYMENT</td>\n",
       "      <td>20096.56</td>\n",
       "      <td>C1868032458</td>\n",
       "      <td>110117.0</td>\n",
       "      <td>90020.44</td>\n",
       "      <td>M1419201886</td>\n",
       "      <td>0.00</td>\n",
       "      <td>0.00</td>\n",
       "      <td>0</td>\n",
       "    </tr>\n",
       "    <tr>\n",
       "      <th>100000</th>\n",
       "      <td>10</td>\n",
       "      <td>CASH_OUT</td>\n",
       "      <td>578570.34</td>\n",
       "      <td>C1842020389</td>\n",
       "      <td>0.0</td>\n",
       "      <td>0.00</td>\n",
       "      <td>C1750350389</td>\n",
       "      <td>782692.89</td>\n",
       "      <td>1735465.73</td>\n",
       "      <td>0</td>\n",
       "    </tr>\n",
       "  </tbody>\n",
       "</table>\n",
       "</div>"
      ],
      "text/plain": [
       "        step      type     amount     nameOrig  oldbalanceOrg  newbalanceOrig  \\\n",
       "99996     10   PAYMENT   18345.49   C744303677         6206.0            0.00   \n",
       "99997     10   CASH_IN  183774.91   C104331851        39173.0       222947.91   \n",
       "99998     10  CASH_OUT   82237.17   C707662966         6031.0            0.00   \n",
       "99999     10   PAYMENT   20096.56  C1868032458       110117.0        90020.44   \n",
       "100000    10  CASH_OUT  578570.34  C1842020389            0.0            0.00   \n",
       "\n",
       "           nameDest  oldbalanceDest  newbalanceDest  isFraud  \n",
       "99996   M1785344556            0.00            0.00        0  \n",
       "99997     C36392889        54925.05            0.00        0  \n",
       "99998   C1553004158       592635.66       799140.46        0  \n",
       "99999   M1419201886            0.00            0.00        0  \n",
       "100000  C1750350389       782692.89      1735465.73        0  "
      ]
     },
     "execution_count": 27,
     "metadata": {},
     "output_type": "execute_result"
    }
   ],
   "source": [
    "df.tail()"
   ]
  },
  {
   "cell_type": "code",
   "execution_count": 28,
   "id": "a44dd745",
   "metadata": {},
   "outputs": [
    {
     "name": "stdout",
     "output_type": "stream",
     "text": [
      "<class 'pandas.core.frame.DataFrame'>\n",
      "RangeIndex: 100001 entries, 0 to 100000\n",
      "Data columns (total 10 columns):\n",
      " #   Column          Non-Null Count   Dtype  \n",
      "---  ------          --------------   -----  \n",
      " 0   step            100001 non-null  int64  \n",
      " 1   type            100001 non-null  object \n",
      " 2   amount          100001 non-null  float64\n",
      " 3   nameOrig        100001 non-null  object \n",
      " 4   oldbalanceOrg   100001 non-null  float64\n",
      " 5   newbalanceOrig  100001 non-null  float64\n",
      " 6   nameDest        100001 non-null  object \n",
      " 7   oldbalanceDest  100001 non-null  float64\n",
      " 8   newbalanceDest  100001 non-null  float64\n",
      " 9   isFraud         100001 non-null  int64  \n",
      "dtypes: float64(5), int64(2), object(3)\n",
      "memory usage: 7.6+ MB\n"
     ]
    }
   ],
   "source": [
    "df.info()"
   ]
  },
  {
   "cell_type": "code",
   "execution_count": 29,
   "id": "6382b3a0",
   "metadata": {},
   "outputs": [
    {
     "data": {
      "text/html": [
       "<div>\n",
       "<style scoped>\n",
       "    .dataframe tbody tr th:only-of-type {\n",
       "        vertical-align: middle;\n",
       "    }\n",
       "\n",
       "    .dataframe tbody tr th {\n",
       "        vertical-align: top;\n",
       "    }\n",
       "\n",
       "    .dataframe thead th {\n",
       "        text-align: right;\n",
       "    }\n",
       "</style>\n",
       "<table border=\"1\" class=\"dataframe\">\n",
       "  <thead>\n",
       "    <tr style=\"text-align: right;\">\n",
       "      <th></th>\n",
       "      <th>step</th>\n",
       "      <th>amount</th>\n",
       "      <th>oldbalanceOrg</th>\n",
       "      <th>newbalanceOrig</th>\n",
       "      <th>oldbalanceDest</th>\n",
       "      <th>newbalanceDest</th>\n",
       "      <th>isFraud</th>\n",
       "    </tr>\n",
       "  </thead>\n",
       "  <tbody>\n",
       "    <tr>\n",
       "      <th>count</th>\n",
       "      <td>100001.000000</td>\n",
       "      <td>1.000010e+05</td>\n",
       "      <td>1.000010e+05</td>\n",
       "      <td>1.000010e+05</td>\n",
       "      <td>1.000010e+05</td>\n",
       "      <td>1.000010e+05</td>\n",
       "      <td>100001.00000</td>\n",
       "    </tr>\n",
       "    <tr>\n",
       "      <th>mean</th>\n",
       "      <td>8.472915</td>\n",
       "      <td>1.735460e+05</td>\n",
       "      <td>8.726972e+05</td>\n",
       "      <td>8.536024e+05</td>\n",
       "      <td>8.805087e+05</td>\n",
       "      <td>1.184087e+06</td>\n",
       "      <td>0.00477</td>\n",
       "    </tr>\n",
       "    <tr>\n",
       "      <th>std</th>\n",
       "      <td>1.890352</td>\n",
       "      <td>3.436215e+05</td>\n",
       "      <td>2.662180e+06</td>\n",
       "      <td>2.628870e+06</td>\n",
       "      <td>2.402294e+06</td>\n",
       "      <td>2.802508e+06</td>\n",
       "      <td>0.06890</td>\n",
       "    </tr>\n",
       "    <tr>\n",
       "      <th>min</th>\n",
       "      <td>1.000000</td>\n",
       "      <td>3.200000e-01</td>\n",
       "      <td>0.000000e+00</td>\n",
       "      <td>0.000000e+00</td>\n",
       "      <td>0.000000e+00</td>\n",
       "      <td>0.000000e+00</td>\n",
       "      <td>0.00000</td>\n",
       "    </tr>\n",
       "    <tr>\n",
       "      <th>25%</th>\n",
       "      <td>8.000000</td>\n",
       "      <td>9.963630e+03</td>\n",
       "      <td>0.000000e+00</td>\n",
       "      <td>0.000000e+00</td>\n",
       "      <td>0.000000e+00</td>\n",
       "      <td>0.000000e+00</td>\n",
       "      <td>0.00000</td>\n",
       "    </tr>\n",
       "    <tr>\n",
       "      <th>50%</th>\n",
       "      <td>9.000000</td>\n",
       "      <td>5.275432e+04</td>\n",
       "      <td>2.003600e+04</td>\n",
       "      <td>0.000000e+00</td>\n",
       "      <td>2.083986e+04</td>\n",
       "      <td>4.990918e+04</td>\n",
       "      <td>0.00000</td>\n",
       "    </tr>\n",
       "    <tr>\n",
       "      <th>75%</th>\n",
       "      <td>10.000000</td>\n",
       "      <td>2.117737e+05</td>\n",
       "      <td>1.890543e+05</td>\n",
       "      <td>2.057281e+05</td>\n",
       "      <td>5.882913e+05</td>\n",
       "      <td>1.058252e+06</td>\n",
       "      <td>0.00000</td>\n",
       "    </tr>\n",
       "    <tr>\n",
       "      <th>max</th>\n",
       "      <td>10.000000</td>\n",
       "      <td>1.000000e+07</td>\n",
       "      <td>3.380000e+07</td>\n",
       "      <td>3.400000e+07</td>\n",
       "      <td>3.400000e+07</td>\n",
       "      <td>3.890000e+07</td>\n",
       "      <td>1.00000</td>\n",
       "    </tr>\n",
       "  </tbody>\n",
       "</table>\n",
       "</div>"
      ],
      "text/plain": [
       "                step        amount  oldbalanceOrg  newbalanceOrig  \\\n",
       "count  100001.000000  1.000010e+05   1.000010e+05    1.000010e+05   \n",
       "mean        8.472915  1.735460e+05   8.726972e+05    8.536024e+05   \n",
       "std         1.890352  3.436215e+05   2.662180e+06    2.628870e+06   \n",
       "min         1.000000  3.200000e-01   0.000000e+00    0.000000e+00   \n",
       "25%         8.000000  9.963630e+03   0.000000e+00    0.000000e+00   \n",
       "50%         9.000000  5.275432e+04   2.003600e+04    0.000000e+00   \n",
       "75%        10.000000  2.117737e+05   1.890543e+05    2.057281e+05   \n",
       "max        10.000000  1.000000e+07   3.380000e+07    3.400000e+07   \n",
       "\n",
       "       oldbalanceDest  newbalanceDest       isFraud  \n",
       "count    1.000010e+05    1.000010e+05  100001.00000  \n",
       "mean     8.805087e+05    1.184087e+06       0.00477  \n",
       "std      2.402294e+06    2.802508e+06       0.06890  \n",
       "min      0.000000e+00    0.000000e+00       0.00000  \n",
       "25%      0.000000e+00    0.000000e+00       0.00000  \n",
       "50%      2.083986e+04    4.990918e+04       0.00000  \n",
       "75%      5.882913e+05    1.058252e+06       0.00000  \n",
       "max      3.400000e+07    3.890000e+07       1.00000  "
      ]
     },
     "execution_count": 29,
     "metadata": {},
     "output_type": "execute_result"
    }
   ],
   "source": [
    "df.describe() #always catch numerical column"
   ]
  },
  {
   "cell_type": "code",
   "execution_count": 30,
   "id": "7258979a",
   "metadata": {},
   "outputs": [],
   "source": [
    "#df.describe(include=\"all\")  #catches all the data"
   ]
  },
  {
   "cell_type": "code",
   "execution_count": 31,
   "id": "dca94cd0",
   "metadata": {},
   "outputs": [
    {
     "data": {
      "text/plain": [
       "(100001, 10)"
      ]
     },
     "execution_count": 31,
     "metadata": {},
     "output_type": "execute_result"
    }
   ],
   "source": [
    "df.shape"
   ]
  },
  {
   "cell_type": "code",
   "execution_count": 32,
   "id": "c66522d6",
   "metadata": {},
   "outputs": [
    {
     "data": {
      "text/plain": [
       "1000010"
      ]
     },
     "execution_count": 32,
     "metadata": {},
     "output_type": "execute_result"
    }
   ],
   "source": [
    "df.size"
   ]
  },
  {
   "cell_type": "code",
   "execution_count": 33,
   "id": "f96a7f19",
   "metadata": {},
   "outputs": [
    {
     "data": {
      "text/plain": [
       "Index(['step', 'type', 'amount', 'nameOrig', 'oldbalanceOrg', 'newbalanceOrig',\n",
       "       'nameDest', 'oldbalanceDest', 'newbalanceDest', 'isFraud'],\n",
       "      dtype='object')"
      ]
     },
     "execution_count": 33,
     "metadata": {},
     "output_type": "execute_result"
    }
   ],
   "source": [
    "df.columns #function which run without parenthesis"
   ]
  },
  {
   "cell_type": "markdown",
   "id": "fb0cd08e",
   "metadata": {},
   "source": [
    "# Check Missing Value"
   ]
  },
  {
   "cell_type": "code",
   "execution_count": 34,
   "id": "f3704460",
   "metadata": {},
   "outputs": [
    {
     "data": {
      "text/plain": [
       "step              0\n",
       "type              0\n",
       "amount            0\n",
       "nameOrig          0\n",
       "oldbalanceOrg     0\n",
       "newbalanceOrig    0\n",
       "nameDest          0\n",
       "oldbalanceDest    0\n",
       "newbalanceDest    0\n",
       "isFraud           0\n",
       "dtype: int64"
      ]
     },
     "execution_count": 34,
     "metadata": {},
     "output_type": "execute_result"
    }
   ],
   "source": [
    "df.isnull().sum()"
   ]
  },
  {
   "cell_type": "markdown",
   "id": "113c125e",
   "metadata": {},
   "source": [
    "There are no null values in our dataset."
   ]
  },
  {
   "cell_type": "code",
   "execution_count": 35,
   "id": "94fdc57e",
   "metadata": {},
   "outputs": [
    {
     "data": {
      "text/plain": [
       "PAYMENT     39512\n",
       "CASH_OUT    30719\n",
       "CASH_IN     20185\n",
       "TRANSFER     8597\n",
       "DEBIT         988\n",
       "Name: type, dtype: int64"
      ]
     },
     "execution_count": 35,
     "metadata": {},
     "output_type": "execute_result"
    }
   ],
   "source": [
    "df.type.value_counts()"
   ]
  },
  {
   "cell_type": "code",
   "execution_count": 36,
   "id": "37bf48ae",
   "metadata": {},
   "outputs": [
    {
     "data": {
      "text/plain": [
       "0    99524\n",
       "1      477\n",
       "Name: isFraud, dtype: int64"
      ]
     },
     "execution_count": 36,
     "metadata": {},
     "output_type": "execute_result"
    }
   ],
   "source": [
    "df.isFraud.value_counts()"
   ]
  },
  {
   "cell_type": "code",
   "execution_count": 37,
   "id": "d485eb78",
   "metadata": {},
   "outputs": [
    {
     "data": {
      "text/plain": [
       "9     37628\n",
       "10    27275\n",
       "8     21097\n",
       "7      6837\n",
       "1      3722\n",
       "5      2325\n",
       "4       565\n",
       "3       552\n",
       "Name: step, dtype: int64"
      ]
     },
     "execution_count": 37,
     "metadata": {},
     "output_type": "execute_result"
    }
   ],
   "source": [
    "df.step.value_counts()"
   ]
  },
  {
   "cell_type": "markdown",
   "id": "60793a07",
   "metadata": {},
   "source": [
    "# Correlation"
   ]
  },
  {
   "cell_type": "code",
   "execution_count": 38,
   "id": "4ff31c82",
   "metadata": {},
   "outputs": [
    {
     "data": {
      "text/html": [
       "<div>\n",
       "<style scoped>\n",
       "    .dataframe tbody tr th:only-of-type {\n",
       "        vertical-align: middle;\n",
       "    }\n",
       "\n",
       "    .dataframe tbody tr th {\n",
       "        vertical-align: top;\n",
       "    }\n",
       "\n",
       "    .dataframe thead th {\n",
       "        text-align: right;\n",
       "    }\n",
       "</style>\n",
       "<table border=\"1\" class=\"dataframe\">\n",
       "  <thead>\n",
       "    <tr style=\"text-align: right;\">\n",
       "      <th></th>\n",
       "      <th>step</th>\n",
       "      <th>amount</th>\n",
       "      <th>oldbalanceOrg</th>\n",
       "      <th>newbalanceOrig</th>\n",
       "      <th>oldbalanceDest</th>\n",
       "      <th>newbalanceDest</th>\n",
       "      <th>isFraud</th>\n",
       "    </tr>\n",
       "  </thead>\n",
       "  <tbody>\n",
       "    <tr>\n",
       "      <th>step</th>\n",
       "      <td>1.000000</td>\n",
       "      <td>0.077097</td>\n",
       "      <td>-0.004123</td>\n",
       "      <td>-0.006899</td>\n",
       "      <td>0.008537</td>\n",
       "      <td>0.011238</td>\n",
       "      <td>-0.026994</td>\n",
       "    </tr>\n",
       "    <tr>\n",
       "      <th>amount</th>\n",
       "      <td>0.077097</td>\n",
       "      <td>1.000000</td>\n",
       "      <td>-0.012355</td>\n",
       "      <td>-0.017980</td>\n",
       "      <td>0.246217</td>\n",
       "      <td>0.373701</td>\n",
       "      <td>0.012309</td>\n",
       "    </tr>\n",
       "    <tr>\n",
       "      <th>oldbalanceOrg</th>\n",
       "      <td>-0.004123</td>\n",
       "      <td>-0.012355</td>\n",
       "      <td>1.000000</td>\n",
       "      <td>0.968010</td>\n",
       "      <td>0.106402</td>\n",
       "      <td>0.074959</td>\n",
       "      <td>0.172649</td>\n",
       "    </tr>\n",
       "    <tr>\n",
       "      <th>newbalanceOrig</th>\n",
       "      <td>-0.006899</td>\n",
       "      <td>-0.017980</td>\n",
       "      <td>0.968010</td>\n",
       "      <td>1.000000</td>\n",
       "      <td>0.104682</td>\n",
       "      <td>0.071620</td>\n",
       "      <td>-0.020742</td>\n",
       "    </tr>\n",
       "    <tr>\n",
       "      <th>oldbalanceDest</th>\n",
       "      <td>0.008537</td>\n",
       "      <td>0.246217</td>\n",
       "      <td>0.106402</td>\n",
       "      <td>0.104682</td>\n",
       "      <td>1.000000</td>\n",
       "      <td>0.938688</td>\n",
       "      <td>0.013516</td>\n",
       "    </tr>\n",
       "    <tr>\n",
       "      <th>newbalanceDest</th>\n",
       "      <td>0.011238</td>\n",
       "      <td>0.373701</td>\n",
       "      <td>0.074959</td>\n",
       "      <td>0.071620</td>\n",
       "      <td>0.938688</td>\n",
       "      <td>1.000000</td>\n",
       "      <td>0.008370</td>\n",
       "    </tr>\n",
       "    <tr>\n",
       "      <th>isFraud</th>\n",
       "      <td>-0.026994</td>\n",
       "      <td>0.012309</td>\n",
       "      <td>0.172649</td>\n",
       "      <td>-0.020742</td>\n",
       "      <td>0.013516</td>\n",
       "      <td>0.008370</td>\n",
       "      <td>1.000000</td>\n",
       "    </tr>\n",
       "  </tbody>\n",
       "</table>\n",
       "</div>"
      ],
      "text/plain": [
       "                    step    amount  oldbalanceOrg  newbalanceOrig  \\\n",
       "step            1.000000  0.077097      -0.004123       -0.006899   \n",
       "amount          0.077097  1.000000      -0.012355       -0.017980   \n",
       "oldbalanceOrg  -0.004123 -0.012355       1.000000        0.968010   \n",
       "newbalanceOrig -0.006899 -0.017980       0.968010        1.000000   \n",
       "oldbalanceDest  0.008537  0.246217       0.106402        0.104682   \n",
       "newbalanceDest  0.011238  0.373701       0.074959        0.071620   \n",
       "isFraud        -0.026994  0.012309       0.172649       -0.020742   \n",
       "\n",
       "                oldbalanceDest  newbalanceDest   isFraud  \n",
       "step                  0.008537        0.011238 -0.026994  \n",
       "amount                0.246217        0.373701  0.012309  \n",
       "oldbalanceOrg         0.106402        0.074959  0.172649  \n",
       "newbalanceOrig        0.104682        0.071620 -0.020742  \n",
       "oldbalanceDest        1.000000        0.938688  0.013516  \n",
       "newbalanceDest        0.938688        1.000000  0.008370  \n",
       "isFraud               0.013516        0.008370  1.000000  "
      ]
     },
     "execution_count": 38,
     "metadata": {},
     "output_type": "execute_result"
    }
   ],
   "source": [
    "x=df.corr()\n",
    "x"
   ]
  },
  {
   "cell_type": "code",
   "execution_count": 39,
   "id": "c24e7f6d",
   "metadata": {},
   "outputs": [
    {
     "data": {
      "image/png": "[encoded data removed]",
      "text/plain": [
       "<Figure size 1500x1000 with 2 Axes>"
      ]
     },
     "metadata": {},
     "output_type": "display_data"
    }
   ],
   "source": [
    "plt.figure(figsize=(15,10))\n",
    "heatmap=sns.heatmap(x,linewidth=1,annot=True,cmap=plt.cm.Blues)\n",
    "plt.title(\"Heatmap\")\n",
    "plt.show()"
   ]
  },
  {
   "cell_type": "markdown",
   "id": "a953b104",
   "metadata": {},
   "source": [
    "oldbalanceOrg and newbalanceOrig has strong positive relationship. oldbalanceDest and newbalanceDest has strong positive relationship. oldbalanceOrg and amount has weak positive relationship. newbalanceOrig and amount has moderate positive relationship."
   ]
  },
  {
   "cell_type": "code",
   "execution_count": 40,
   "id": "694ea10c",
   "metadata": {},
   "outputs": [
    {
     "data": {
      "image/png": "[encoded data removed]",
      "text/plain": [
       "<Figure size 640x480 with 1 Axes>"
      ]
     },
     "metadata": {},
     "output_type": "display_data"
    }
   ],
   "source": [
    "Type=df['type'].value_counts()\n",
    "data=Type.values\n",
    "labels=Type.index\n",
    "colors=sns.color_palette('pastel')[0:8]\n",
    "plt.pie(data,labels=labels,colors=colors,autopct='%.0f%%')\n",
    "plt.title('Distribution of Transaction type')\n",
    "plt.legend(labels,loc='best',bbox_to_anchor=(1,0.5))\n",
    "plt.show()"
   ]
  },
  {
   "cell_type": "markdown",
   "id": "36de158f",
   "metadata": {},
   "source": [
    "Cash out is the most useable transaction type as compair to payment, cash in, transfer and debit types."
   ]
  },
  {
   "cell_type": "code",
   "execution_count": 41,
   "id": "ec519e65",
   "metadata": {},
   "outputs": [
    {
     "data": {
      "text/plain": [
       "Text(0.5, 1.0, 'Distribution Of transaction amount')"
      ]
     },
     "execution_count": 41,
     "metadata": {},
     "output_type": "execute_result"
    },
    {
     "data": {
      "image/png": "[encoded data removed]",
      "text/plain": [
       "<Figure size 640x480 with 1 Axes>"
      ]
     },
     "metadata": {},
     "output_type": "display_data"
    }
   ],
   "source": [
    "sns.kdeplot(df[\"amount\"],linewidth=4)\n",
    "plt.title(\"Distribution Of transaction amount\")"
   ]
  },
  {
   "cell_type": "markdown",
   "id": "d8f3c391",
   "metadata": {},
   "source": [
    " the above distribution of transaction amount is Right-skewed."
   ]
  },
  {
   "cell_type": "code",
   "execution_count": 42,
   "id": "006bca6c",
   "metadata": {},
   "outputs": [
    {
     "data": {
      "text/plain": [
       "C1231006815    1\n",
       "C363543566     1\n",
       "C1531360241    1\n",
       "C1802124274    1\n",
       "C1910868687    1\n",
       "              ..\n",
       "C1919952997    1\n",
       "C668560116     1\n",
       "C986934168     1\n",
       "C1567015632    1\n",
       "C1842020389    1\n",
       "Name: nameOrig, Length: 100001, dtype: int64"
      ]
     },
     "execution_count": 42,
     "metadata": {},
     "output_type": "execute_result"
    }
   ],
   "source": [
    "df['nameOrig'].value_counts()"
   ]
  },
  {
   "cell_type": "code",
   "execution_count": 43,
   "id": "aac0dbfd",
   "metadata": {},
   "outputs": [
    {
     "data": {
      "text/plain": [
       "Text(0.5, 1.0, 'Distribution Of transaction amount')"
      ]
     },
     "execution_count": 43,
     "metadata": {},
     "output_type": "execute_result"
    },
    {
     "data": {
      "image/png": "[encoded data removed]",
      "text/plain": [
       "<Figure size 640x480 with 1 Axes>"
      ]
     },
     "metadata": {},
     "output_type": "display_data"
    }
   ],
   "source": [
    "sns.kdeplot(df[\"oldbalanceOrg\"],linewidth=4)\n",
    "plt.title(\"Distribution Of transaction amount\")"
   ]
  },
  {
   "cell_type": "markdown",
   "id": "30263969",
   "metadata": {},
   "source": [
    " the above distribution of transaction amount is Right-skewed."
   ]
  },
  {
   "cell_type": "code",
   "execution_count": 44,
   "id": "df2e4793",
   "metadata": {},
   "outputs": [
    {
     "data": {
      "text/plain": [
       "Text(0.5, 1.0, 'Distribution Of transaction amount')"
      ]
     },
     "execution_count": 44,
     "metadata": {},
     "output_type": "execute_result"
    },
    {
     "data": {
      "image/png": "[encoded data removed]",
      "text/plain": [
       "<Figure size 640x480 with 1 Axes>"
      ]
     },
     "metadata": {},
     "output_type": "display_data"
    }
   ],
   "source": [
    "sns.kdeplot(df[\"newbalanceOrig\"],linewidth=4)\n",
    "plt.title(\"Distribution Of transaction amount\")"
   ]
  },
  {
   "cell_type": "markdown",
   "id": "16d7db0c",
   "metadata": {},
   "source": [
    " the above distribution of transaction amount is Right-skewed."
   ]
  },
  {
   "cell_type": "code",
   "execution_count": 45,
   "id": "becc4d5a",
   "metadata": {},
   "outputs": [
    {
     "data": {
      "text/plain": [
       "C985934102     78\n",
       "C1286084959    72\n",
       "C248609774     71\n",
       "C1590550415    69\n",
       "C2083562754    66\n",
       "               ..\n",
       "M259075709      1\n",
       "M375566378      1\n",
       "M1225444842     1\n",
       "M1709995863     1\n",
       "M1419201886     1\n",
       "Name: nameDest, Length: 51551, dtype: int64"
      ]
     },
     "execution_count": 45,
     "metadata": {},
     "output_type": "execute_result"
    }
   ],
   "source": [
    "df['nameDest'].value_counts()"
   ]
  },
  {
   "cell_type": "code",
   "execution_count": 46,
   "id": "b520de44",
   "metadata": {},
   "outputs": [
    {
     "data": {
      "text/plain": [
       "Text(0.5, 1.0, 'Distribution of transaction amount')"
      ]
     },
     "execution_count": 46,
     "metadata": {},
     "output_type": "execute_result"
    },
    {
     "data": {
      "image/png": "[encoded data removed]",
      "text/plain": [
       "<Figure size 640x480 with 1 Axes>"
      ]
     },
     "metadata": {},
     "output_type": "display_data"
    }
   ],
   "source": [
    "sns.kdeplot(df['oldbalanceDest'], linewidth=4)\n",
    "plt.title('Distribution of transaction amount')"
   ]
  },
  {
   "cell_type": "markdown",
   "id": "b0bf7389",
   "metadata": {},
   "source": [
    " the above distribution of transaction amount is Right-skewed."
   ]
  },
  {
   "cell_type": "code",
   "execution_count": 47,
   "id": "c0905651",
   "metadata": {},
   "outputs": [
    {
     "data": {
      "text/plain": [
       "Text(0.5, 1.0, 'Distribution of transaction amount')"
      ]
     },
     "execution_count": 47,
     "metadata": {},
     "output_type": "execute_result"
    },
    {
     "data": {
      "image/png": "[encoded data removed]",
      "text/plain": [
       "<Figure size 640x480 with 1 Axes>"
      ]
     },
     "metadata": {},
     "output_type": "display_data"
    }
   ],
   "source": [
    "sns.kdeplot(df['newbalanceDest'], linewidth=4)\n",
    "plt.title('Distribution of transaction amount')"
   ]
  },
  {
   "cell_type": "markdown",
   "id": "149c19df",
   "metadata": {},
   "source": [
    "The distribution of post-transaction balances of the recipient is right skewed."
   ]
  },
  {
   "cell_type": "markdown",
   "id": "281c5795",
   "metadata": {},
   "source": [
    "There are much more non-fraudulent transactions than fraudulent transactions."
   ]
  },
  {
   "cell_type": "code",
   "execution_count": 48,
   "id": "05ec1a0d",
   "metadata": {},
   "outputs": [
    {
     "data": {
      "image/png": "[encoded data removed]",
      "text/plain": [
       "<Figure size 640x480 with 1 Axes>"
      ]
     },
     "metadata": {},
     "output_type": "display_data"
    }
   ],
   "source": [
    "ax = sns.countplot(x='type', data=df, hue='isFraud')\n",
    "for container in ax.containers:\n",
    "    ax.bar_label(container)\n",
    "plt.title('Count plot of transaction type', fontsize=12)\n",
    "plt.legend(bbox_to_anchor=(1.05,1), loc='upper left')\n",
    "plt.ylabel('Number of transactions')\n",
    "\n",
    "del ax"
   ]
  },
  {
   "cell_type": "markdown",
   "id": "f0ba144a",
   "metadata": {},
   "source": [
    "# Convert Categorical Variable to Numeric Variable"
   ]
  },
  {
   "cell_type": "code",
   "execution_count": 49,
   "id": "84e1ff1f",
   "metadata": {},
   "outputs": [
    {
     "data": {
      "text/plain": [
       "step                int64\n",
       "type               object\n",
       "amount            float64\n",
       "nameOrig           object\n",
       "oldbalanceOrg     float64\n",
       "newbalanceOrig    float64\n",
       "nameDest           object\n",
       "oldbalanceDest    float64\n",
       "newbalanceDest    float64\n",
       "isFraud             int64\n",
       "dtype: object"
      ]
     },
     "execution_count": 49,
     "metadata": {},
     "output_type": "execute_result"
    }
   ],
   "source": [
    "df.dtypes"
   ]
  },
  {
   "cell_type": "code",
   "execution_count": 50,
   "id": "0af93b19",
   "metadata": {},
   "outputs": [],
   "source": [
    "from sklearn.preprocessing import LabelEncoder\n",
    "le=LabelEncoder()"
   ]
  },
  {
   "cell_type": "code",
   "execution_count": 51,
   "id": "93f6397e",
   "metadata": {},
   "outputs": [],
   "source": [
    "df.type=le.fit_transform(df.type)\n",
    "df.nameOrig=le.fit_transform(df.nameOrig)\n",
    "df.nameDest =le.fit_transform(df.nameDest)"
   ]
  },
  {
   "cell_type": "code",
   "execution_count": 52,
   "id": "374fc9ec",
   "metadata": {},
   "outputs": [
    {
     "data": {
      "text/plain": [
       "step                int64\n",
       "type                int32\n",
       "amount            float64\n",
       "nameOrig            int32\n",
       "oldbalanceOrg     float64\n",
       "newbalanceOrig    float64\n",
       "nameDest            int32\n",
       "oldbalanceDest    float64\n",
       "newbalanceDest    float64\n",
       "isFraud             int64\n",
       "dtype: object"
      ]
     },
     "execution_count": 52,
     "metadata": {},
     "output_type": "execute_result"
    }
   ],
   "source": [
    "df.dtypes"
   ]
  },
  {
   "cell_type": "code",
   "execution_count": 53,
   "id": "f296e311",
   "metadata": {},
   "outputs": [
    {
     "data": {
      "image/png": "[encoded data removed]",
      "text/plain": [
       "<Figure size 2500x2500 with 12 Axes>"
      ]
     },
     "metadata": {},
     "output_type": "display_data"
    }
   ],
   "source": [
    "df.hist(figsize=(25,25))\n",
    "plt.show()"
   ]
  },
  {
   "cell_type": "code",
   "execution_count": 54,
   "id": "3eda4c18",
   "metadata": {},
   "outputs": [
    {
     "data": {
      "text/plain": [
       "Index(['step', 'type', 'amount', 'nameOrig', 'oldbalanceOrg', 'newbalanceOrig',\n",
       "       'nameDest', 'oldbalanceDest', 'newbalanceDest', 'isFraud'],\n",
       "      dtype='object')"
      ]
     },
     "execution_count": 54,
     "metadata": {},
     "output_type": "execute_result"
    }
   ],
   "source": [
    "df.columns"
   ]
  },
  {
   "cell_type": "markdown",
   "id": "76b2d1f7",
   "metadata": {},
   "source": [
    "# spliting into test & train"
   ]
  },
  {
   "cell_type": "code",
   "execution_count": 55,
   "id": "397f3e81",
   "metadata": {},
   "outputs": [],
   "source": [
    "x=df.iloc[:,0:8]\n",
    "y=df.iloc[:,-1]"
   ]
  },
  {
   "cell_type": "code",
   "execution_count": 56,
   "id": "0cd65aaf",
   "metadata": {},
   "outputs": [],
   "source": [
    "import sklearn\n",
    "from sklearn.model_selection import train_test_split\n",
    "x_train,x_test,y_train,y_test=train_test_split(x, y, test_size=0.2, random_state=42)"
   ]
  },
  {
   "cell_type": "code",
   "execution_count": 57,
   "id": "f4d2db08",
   "metadata": {},
   "outputs": [
    {
     "data": {
      "text/plain": [
       "((80000, 8), (20001, 8), (80000,), (20001,))"
      ]
     },
     "execution_count": 57,
     "metadata": {},
     "output_type": "execute_result"
    }
   ],
   "source": [
    "x_train.shape,x_test.shape,y_train.shape,y_test.shape"
   ]
  },
  {
   "cell_type": "markdown",
   "id": "0e5529b3",
   "metadata": {},
   "source": [
    "# Model Building "
   ]
  },
  {
   "cell_type": "markdown",
   "id": "0dc254e4",
   "metadata": {},
   "source": [
    "# Ada Boost"
   ]
  },
  {
   "cell_type": "code",
   "execution_count": 58,
   "id": "7a753ef5",
   "metadata": {},
   "outputs": [],
   "source": [
    "from sklearn.ensemble import AdaBoostClassifier\n",
    "from sklearn.tree import DecisionTreeClassifier\n",
    "ad=AdaBoostClassifier(DecisionTreeClassifier(),n_estimators=2)"
   ]
  },
  {
   "cell_type": "code",
   "execution_count": 59,
   "id": "da650c80",
   "metadata": {},
   "outputs": [
    {
     "data": {
      "text/plain": [
       "AdaBoostClassifier(base_estimator=DecisionTreeClassifier(), n_estimators=2)"
      ]
     },
     "execution_count": 59,
     "metadata": {},
     "output_type": "execute_result"
    }
   ],
   "source": [
    "ad.fit(x_train,y_train)"
   ]
  },
  {
   "cell_type": "code",
   "execution_count": 60,
   "id": "023a50bf",
   "metadata": {},
   "outputs": [],
   "source": [
    "ad_p=ad.predict(x_test)"
   ]
  },
  {
   "cell_type": "code",
   "execution_count": 61,
   "id": "f92deec5",
   "metadata": {},
   "outputs": [
    {
     "data": {
      "text/plain": [
       "array([[19907,     8],\n",
       "       [    4,    82]], dtype=int64)"
      ]
     },
     "execution_count": 61,
     "metadata": {},
     "output_type": "execute_result"
    }
   ],
   "source": [
    "ad_cf=confusion_matrix(ad_p,y_test)\n",
    "ad_cf"
   ]
  },
  {
   "cell_type": "code",
   "execution_count": 62,
   "id": "9714e7c5",
   "metadata": {},
   "outputs": [
    {
     "data": {
      "text/plain": [
       "99.94000299985001"
      ]
     },
     "execution_count": 62,
     "metadata": {},
     "output_type": "execute_result"
    }
   ],
   "source": [
    "ad_acc=ad_cf.diagonal().sum()/ad_cf.sum()*100\n",
    "ad_acc"
   ]
  },
  {
   "cell_type": "code",
   "execution_count": 63,
   "id": "e24f553a",
   "metadata": {},
   "outputs": [
    {
     "name": "stdout",
     "output_type": "stream",
     "text": [
      "              precision    recall  f1-score   support\n",
      "\n",
      "           0       1.00      1.00      1.00     19915\n",
      "           1       0.91      0.95      0.93        86\n",
      "\n",
      "    accuracy                           1.00     20001\n",
      "   macro avg       0.96      0.98      0.97     20001\n",
      "weighted avg       1.00      1.00      1.00     20001\n",
      "\n"
     ]
    }
   ],
   "source": [
    "from sklearn.metrics import classification_report\n",
    "print(classification_report(ad_p,y_test))"
   ]
  },
  {
   "cell_type": "code",
   "execution_count": 143,
   "id": "1188cf32",
   "metadata": {},
   "outputs": [],
   "source": [
    "from sklearn.metrics import accuracy_score, f1_score, precision_score, recall_score, classification_report, confusion_matrix\n"
   ]
  },
  {
   "cell_type": "code",
   "execution_count": 144,
   "id": "78063b8d",
   "metadata": {},
   "outputs": [
    {
     "name": "stdout",
     "output_type": "stream",
     "text": [
      "0.9657584355583151\n",
      "0.976543332418593\n",
      "0.955455108566454\n"
     ]
    }
   ],
   "source": [
    "f=print(f1_score(y_test, ad_p, average=\"macro\"))\n",
    "p=print(precision_score(y_test,ad_p, average=\"macro\"))\n",
    "r=print(recall_score(y_test,ad_p, average=\"macro\"))"
   ]
  },
  {
   "cell_type": "code",
   "execution_count": 145,
   "id": "356eeaee",
   "metadata": {},
   "outputs": [
    {
     "data": {
      "text/plain": [
       "0.9993932422871376"
      ]
     },
     "execution_count": 145,
     "metadata": {},
     "output_type": "execute_result"
    }
   ],
   "source": [
    "f1_score(y_test, ad_p, average='weighted')"
   ]
  },
  {
   "cell_type": "code",
   "execution_count": 146,
   "id": "3582f72b",
   "metadata": {},
   "outputs": [
    {
     "name": "stdout",
     "output_type": "stream",
     "text": [
      "precision: [0.99959829 0.95348837]\n",
      "recall: [0.99979911 0.91111111]\n",
      "fscore: [0.99969869 0.93181818]\n",
      "support: [19911    90]\n"
     ]
    }
   ],
   "source": [
    "from sklearn.metrics import precision_recall_fscore_support as score\n",
    "\n",
    "precision, recall, fscore, support = score(y_test, ad_p)\n",
    "\n",
    "print('precision: {}'.format(precision))\n",
    "print('recall: {}'.format(recall))\n",
    "print('fscore: {}'.format(fscore))\n",
    "print('support: {}'.format(support))"
   ]
  },
  {
   "cell_type": "code",
   "execution_count": 147,
   "id": "801800ff",
   "metadata": {},
   "outputs": [],
   "source": [
    "#AUC ROC curve\n",
    "from sklearn.metrics import roc_auc_score\n",
    "from sklearn.metrics import roc_curve"
   ]
  },
  {
   "cell_type": "code",
   "execution_count": 148,
   "id": "ab9761b2",
   "metadata": {},
   "outputs": [
    {
     "data": {
      "text/plain": [
       "0.9765433324185929"
      ]
     },
     "execution_count": 148,
     "metadata": {},
     "output_type": "execute_result"
    }
   ],
   "source": [
    "roc=roc_auc_score(ad_p,y_test)\n",
    "roc"
   ]
  },
  {
   "cell_type": "code",
   "execution_count": 150,
   "id": "c979ee69",
   "metadata": {},
   "outputs": [
    {
     "data": {
      "text/plain": [
       "array([[1.00000000e+00, 2.22044605e-16],\n",
       "       [1.00000000e+00, 2.22044605e-16],\n",
       "       [1.00000000e+00, 2.22044605e-16],\n",
       "       ...,\n",
       "       [1.00000000e+00, 2.22044605e-16],\n",
       "       [1.00000000e+00, 2.22044605e-16],\n",
       "       [1.00000000e+00, 2.22044605e-16]])"
      ]
     },
     "execution_count": 150,
     "metadata": {},
     "output_type": "execute_result"
    }
   ],
   "source": [
    "ad_prob=ad.predict_proba(x_test)\n",
    "ad_prob"
   ]
  },
  {
   "cell_type": "code",
   "execution_count": 151,
   "id": "60cb5645",
   "metadata": {},
   "outputs": [
    {
     "data": {
      "text/html": [
       "<div>\n",
       "<style scoped>\n",
       "    .dataframe tbody tr th:only-of-type {\n",
       "        vertical-align: middle;\n",
       "    }\n",
       "\n",
       "    .dataframe tbody tr th {\n",
       "        vertical-align: top;\n",
       "    }\n",
       "\n",
       "    .dataframe thead th {\n",
       "        text-align: right;\n",
       "    }\n",
       "</style>\n",
       "<table border=\"1\" class=\"dataframe\">\n",
       "  <thead>\n",
       "    <tr style=\"text-align: right;\">\n",
       "      <th></th>\n",
       "      <th>0</th>\n",
       "      <th>1</th>\n",
       "    </tr>\n",
       "  </thead>\n",
       "  <tbody>\n",
       "    <tr>\n",
       "      <th>0</th>\n",
       "      <td>1.0</td>\n",
       "      <td>2.220446e-16</td>\n",
       "    </tr>\n",
       "    <tr>\n",
       "      <th>1</th>\n",
       "      <td>1.0</td>\n",
       "      <td>2.220446e-16</td>\n",
       "    </tr>\n",
       "    <tr>\n",
       "      <th>2</th>\n",
       "      <td>1.0</td>\n",
       "      <td>2.220446e-16</td>\n",
       "    </tr>\n",
       "    <tr>\n",
       "      <th>3</th>\n",
       "      <td>1.0</td>\n",
       "      <td>2.220446e-16</td>\n",
       "    </tr>\n",
       "    <tr>\n",
       "      <th>4</th>\n",
       "      <td>1.0</td>\n",
       "      <td>2.220446e-16</td>\n",
       "    </tr>\n",
       "    <tr>\n",
       "      <th>...</th>\n",
       "      <td>...</td>\n",
       "      <td>...</td>\n",
       "    </tr>\n",
       "    <tr>\n",
       "      <th>19996</th>\n",
       "      <td>1.0</td>\n",
       "      <td>2.220446e-16</td>\n",
       "    </tr>\n",
       "    <tr>\n",
       "      <th>19997</th>\n",
       "      <td>1.0</td>\n",
       "      <td>2.220446e-16</td>\n",
       "    </tr>\n",
       "    <tr>\n",
       "      <th>19998</th>\n",
       "      <td>1.0</td>\n",
       "      <td>2.220446e-16</td>\n",
       "    </tr>\n",
       "    <tr>\n",
       "      <th>19999</th>\n",
       "      <td>1.0</td>\n",
       "      <td>2.220446e-16</td>\n",
       "    </tr>\n",
       "    <tr>\n",
       "      <th>20000</th>\n",
       "      <td>1.0</td>\n",
       "      <td>2.220446e-16</td>\n",
       "    </tr>\n",
       "  </tbody>\n",
       "</table>\n",
       "<p>20001 rows × 2 columns</p>\n",
       "</div>"
      ],
      "text/plain": [
       "         0             1\n",
       "0      1.0  2.220446e-16\n",
       "1      1.0  2.220446e-16\n",
       "2      1.0  2.220446e-16\n",
       "3      1.0  2.220446e-16\n",
       "4      1.0  2.220446e-16\n",
       "...    ...           ...\n",
       "19996  1.0  2.220446e-16\n",
       "19997  1.0  2.220446e-16\n",
       "19998  1.0  2.220446e-16\n",
       "19999  1.0  2.220446e-16\n",
       "20000  1.0  2.220446e-16\n",
       "\n",
       "[20001 rows x 2 columns]"
      ]
     },
     "execution_count": 151,
     "metadata": {},
     "output_type": "execute_result"
    }
   ],
   "source": [
    "DF=pd.DataFrame(ad_prob)\n",
    "DF"
   ]
  },
  {
   "cell_type": "code",
   "execution_count": 152,
   "id": "a2d0b157",
   "metadata": {},
   "outputs": [],
   "source": [
    "fpr,tpr,threshold=roc_curve(y_test,DF.iloc[:,1])"
   ]
  },
  {
   "cell_type": "code",
   "execution_count": 153,
   "id": "47dfda32",
   "metadata": {},
   "outputs": [
    {
     "data": {
      "text/plain": [
       "[<matplotlib.lines.Line2D at 0x223f97cd3d0>]"
      ]
     },
     "execution_count": 153,
     "metadata": {},
     "output_type": "execute_result"
    },
    {
     "data": {
      "image/png": "[encoded data removed]",
      "text/plain": [
       "<Figure size 640x480 with 1 Axes>"
      ]
     },
     "metadata": {},
     "output_type": "display_data"
    }
   ],
   "source": [
    "plt.plot(fpr,tpr)"
   ]
  },
  {
   "cell_type": "code",
   "execution_count": 154,
   "id": "8bfbee99",
   "metadata": {},
   "outputs": [],
   "source": [
    "#PRC Curve\n",
    "from sklearn.metrics import precision_recall_curve\n",
    "from sklearn.metrics import f1_score"
   ]
  },
  {
   "cell_type": "code",
   "execution_count": 155,
   "id": "c14b3764",
   "metadata": {},
   "outputs": [],
   "source": [
    "precision,recall,threshold=precision_recall_curve(y_test,DF.iloc[:,1])"
   ]
  },
  {
   "cell_type": "code",
   "execution_count": 157,
   "id": "a2d2b5ee",
   "metadata": {
    "scrolled": true
   },
   "outputs": [
    {
     "data": {
      "text/plain": [
       "Text(0.5, 1.0, 'AUC-ROC Curve')"
      ]
     },
     "execution_count": 157,
     "metadata": {},
     "output_type": "execute_result"
    },
    {
     "data": {
      "image/png": "[encoded data removed]",
      "text/plain": [
       "<Figure size 640x480 with 1 Axes>"
      ]
     },
     "metadata": {},
     "output_type": "display_data"
    }
   ],
   "source": [
    "plt.plot(fpr,tpr)\n",
    "plt.xlabel(\"False Positive Rate\")\n",
    "plt.ylabel(\"True Positive Rate\")\n",
    "plt.title(\"AUC-ROC Curve\")"
   ]
  },
  {
   "cell_type": "markdown",
   "id": "00b5e150",
   "metadata": {},
   "source": [
    "# Decision Tree Regressor"
   ]
  },
  {
   "cell_type": "code",
   "execution_count": 64,
   "id": "4b7b0293",
   "metadata": {},
   "outputs": [],
   "source": [
    "from sklearn.tree import DecisionTreeRegressor\n",
    "dtr=DecisionTreeRegressor()"
   ]
  },
  {
   "cell_type": "code",
   "execution_count": 65,
   "id": "59047317",
   "metadata": {},
   "outputs": [
    {
     "data": {
      "text/plain": [
       "DecisionTreeRegressor()"
      ]
     },
     "execution_count": 65,
     "metadata": {},
     "output_type": "execute_result"
    }
   ],
   "source": [
    "dtr.fit(x_train,y_train)"
   ]
  },
  {
   "cell_type": "code",
   "execution_count": 66,
   "id": "8e8f78cb",
   "metadata": {},
   "outputs": [],
   "source": [
    "dtr_p=dtr.predict(x_test)"
   ]
  },
  {
   "cell_type": "code",
   "execution_count": 67,
   "id": "433bfab1",
   "metadata": {},
   "outputs": [],
   "source": [
    "from sklearn.metrics import confusion_matrix"
   ]
  },
  {
   "cell_type": "code",
   "execution_count": 68,
   "id": "a19fea2d",
   "metadata": {},
   "outputs": [
    {
     "data": {
      "text/plain": [
       "array([[19904,     8],\n",
       "       [    7,    82]], dtype=int64)"
      ]
     },
     "execution_count": 68,
     "metadata": {},
     "output_type": "execute_result"
    }
   ],
   "source": [
    "dtr=confusion_matrix(dtr_p,y_test)\n",
    "dtr"
   ]
  },
  {
   "cell_type": "code",
   "execution_count": 69,
   "id": "ccc7c344",
   "metadata": {},
   "outputs": [
    {
     "data": {
      "text/plain": [
       "99.92500374981252"
      ]
     },
     "execution_count": 69,
     "metadata": {},
     "output_type": "execute_result"
    }
   ],
   "source": [
    "dt_acc=dtr.diagonal().sum()/dtr.sum()*100\n",
    "dt_acc"
   ]
  },
  {
   "cell_type": "code",
   "execution_count": 70,
   "id": "ccad8fbf",
   "metadata": {},
   "outputs": [
    {
     "name": "stdout",
     "output_type": "stream",
     "text": [
      "              precision    recall  f1-score   support\n",
      "\n",
      "         0.0       1.00      1.00      1.00     19912\n",
      "         1.0       0.91      0.92      0.92        89\n",
      "\n",
      "    accuracy                           1.00     20001\n",
      "   macro avg       0.96      0.96      0.96     20001\n",
      "weighted avg       1.00      1.00      1.00     20001\n",
      "\n"
     ]
    }
   ],
   "source": [
    "from sklearn.metrics import classification_report\n",
    "print(classification_report(dtr_p,y_test))"
   ]
  },
  {
   "cell_type": "markdown",
   "id": "2f47a465",
   "metadata": {},
   "source": [
    "# Random Forest"
   ]
  },
  {
   "cell_type": "code",
   "execution_count": 72,
   "id": "100ee0c5",
   "metadata": {},
   "outputs": [],
   "source": [
    "from sklearn.ensemble  import RandomForestClassifier\n",
    "rf=RandomForestClassifier()"
   ]
  },
  {
   "cell_type": "code",
   "execution_count": 73,
   "id": "d9a30105",
   "metadata": {},
   "outputs": [
    {
     "data": {
      "text/plain": [
       "RandomForestClassifier()"
      ]
     },
     "execution_count": 73,
     "metadata": {},
     "output_type": "execute_result"
    }
   ],
   "source": [
    "rf.fit(x_train,y_train)"
   ]
  },
  {
   "cell_type": "code",
   "execution_count": 74,
   "id": "7db3961c",
   "metadata": {},
   "outputs": [],
   "source": [
    "rf_p=rf.predict(x_test)"
   ]
  },
  {
   "cell_type": "code",
   "execution_count": 75,
   "id": "54029523",
   "metadata": {},
   "outputs": [
    {
     "data": {
      "text/plain": [
       "array([[19911,    20],\n",
       "       [    0,    70]], dtype=int64)"
      ]
     },
     "execution_count": 75,
     "metadata": {},
     "output_type": "execute_result"
    }
   ],
   "source": [
    "rf_cf=confusion_matrix(rf_p,y_test)\n",
    "rf_cf"
   ]
  },
  {
   "cell_type": "code",
   "execution_count": 76,
   "id": "078a6e50",
   "metadata": {},
   "outputs": [
    {
     "data": {
      "text/plain": [
       "99.90000499975001"
      ]
     },
     "execution_count": 76,
     "metadata": {},
     "output_type": "execute_result"
    }
   ],
   "source": [
    "rf_acc=rf_cf.diagonal().sum()/rf_cf.sum()*100\n",
    "rf_acc"
   ]
  },
  {
   "cell_type": "code",
   "execution_count": 77,
   "id": "660d1060",
   "metadata": {},
   "outputs": [
    {
     "name": "stdout",
     "output_type": "stream",
     "text": [
      "              precision    recall  f1-score   support\n",
      "\n",
      "           0       1.00      1.00      1.00     19931\n",
      "           1       0.78      1.00      0.88        70\n",
      "\n",
      "    accuracy                           1.00     20001\n",
      "   macro avg       0.89      1.00      0.94     20001\n",
      "weighted avg       1.00      1.00      1.00     20001\n",
      "\n"
     ]
    }
   ],
   "source": [
    "from sklearn.metrics import classification_report\n",
    "print(classification_report(rf_p,y_test))"
   ]
  },
  {
   "cell_type": "markdown",
   "id": "8f3d97a6",
   "metadata": {},
   "source": [
    "# KNN"
   ]
  },
  {
   "cell_type": "code",
   "execution_count": 78,
   "id": "aff52bc5",
   "metadata": {},
   "outputs": [],
   "source": [
    "from sklearn.neighbors import KNeighborsClassifier\n",
    "knn=KNeighborsClassifier(n_neighbors=30)"
   ]
  },
  {
   "cell_type": "code",
   "execution_count": 79,
   "id": "67736353",
   "metadata": {},
   "outputs": [
    {
     "data": {
      "text/plain": [
       "KNeighborsClassifier(n_neighbors=30)"
      ]
     },
     "execution_count": 79,
     "metadata": {},
     "output_type": "execute_result"
    }
   ],
   "source": [
    "knn.fit(x_train,y_train)"
   ]
  },
  {
   "cell_type": "code",
   "execution_count": 80,
   "id": "1adf3df3",
   "metadata": {},
   "outputs": [],
   "source": [
    "k_p=knn.predict(x_test)\n",
    "#k_p"
   ]
  },
  {
   "cell_type": "code",
   "execution_count": 81,
   "id": "1816491f",
   "metadata": {},
   "outputs": [
    {
     "data": {
      "text/plain": [
       "array([[19911,    35],\n",
       "       [    0,    55]], dtype=int64)"
      ]
     },
     "execution_count": 81,
     "metadata": {},
     "output_type": "execute_result"
    }
   ],
   "source": [
    "ck=confusion_matrix(k_p,y_test)\n",
    "ck"
   ]
  },
  {
   "cell_type": "code",
   "execution_count": 82,
   "id": "60deb726",
   "metadata": {},
   "outputs": [
    {
     "data": {
      "text/plain": [
       "99.82500874956253"
      ]
     },
     "execution_count": 82,
     "metadata": {},
     "output_type": "execute_result"
    }
   ],
   "source": [
    "kacc=ck.diagonal().sum()/ck.sum()*100\n",
    "kacc"
   ]
  },
  {
   "cell_type": "code",
   "execution_count": 83,
   "id": "d1394d67",
   "metadata": {},
   "outputs": [
    {
     "name": "stdout",
     "output_type": "stream",
     "text": [
      "              precision    recall  f1-score   support\n",
      "\n",
      "           0       1.00      1.00      1.00     19946\n",
      "           1       0.61      1.00      0.76        55\n",
      "\n",
      "    accuracy                           1.00     20001\n",
      "   macro avg       0.81      1.00      0.88     20001\n",
      "weighted avg       1.00      1.00      1.00     20001\n",
      "\n"
     ]
    }
   ],
   "source": [
    "print(classification_report(k_p,y_test))"
   ]
  },
  {
   "cell_type": "code",
   "execution_count": 84,
   "id": "4a6cc89a",
   "metadata": {},
   "outputs": [],
   "source": [
    "lst=list()"
   ]
  },
  {
   "cell_type": "code",
   "execution_count": 85,
   "id": "53e89366",
   "metadata": {},
   "outputs": [],
   "source": [
    "for i in range(5,30):\n",
    "    knn=KNeighborsClassifier(n_neighbors=i)\n",
    "    knn.fit(x_train,y_train)\n",
    "    kn_pred=knn.predict(x_test)\n",
    "    cf_k=confusion_matrix(kn_pred,y_test)\n",
    "    acck=cf_k.diagonal().sum()/cf_k.sum()*100\n",
    "    lst.append(acck)"
   ]
  },
  {
   "cell_type": "code",
   "execution_count": 86,
   "id": "567504e2",
   "metadata": {},
   "outputs": [
    {
     "data": {
      "image/png": "[encoded data removed]",
      "text/plain": [
       "<Figure size 640x480 with 1 Axes>"
      ]
     },
     "metadata": {},
     "output_type": "display_data"
    }
   ],
   "source": [
    "import matplotlib.pyplot as plt\n",
    "p=plt.plot(lst)"
   ]
  },
  {
   "cell_type": "markdown",
   "id": "f769fc37",
   "metadata": {},
   "source": [
    "# SVM"
   ]
  },
  {
   "cell_type": "code",
   "execution_count": 87,
   "id": "07c62de9",
   "metadata": {},
   "outputs": [],
   "source": [
    "from sklearn.svm import SVC\n",
    "svc=SVC() "
   ]
  },
  {
   "cell_type": "code",
   "execution_count": 88,
   "id": "0c282545",
   "metadata": {},
   "outputs": [
    {
     "data": {
      "text/plain": [
       "SVC()"
      ]
     },
     "execution_count": 88,
     "metadata": {},
     "output_type": "execute_result"
    }
   ],
   "source": [
    "svc.fit(x_train,y_train)"
   ]
  },
  {
   "cell_type": "code",
   "execution_count": 89,
   "id": "a79fbb73",
   "metadata": {},
   "outputs": [],
   "source": [
    "s_p=svc.predict(x_test)\n",
    "#s_p"
   ]
  },
  {
   "cell_type": "code",
   "execution_count": 90,
   "id": "d3fdfcae",
   "metadata": {},
   "outputs": [
    {
     "data": {
      "text/plain": [
       "array([[19911,    36],\n",
       "       [    0,    54]], dtype=int64)"
      ]
     },
     "execution_count": 90,
     "metadata": {},
     "output_type": "execute_result"
    }
   ],
   "source": [
    "cs=confusion_matrix(s_p,y_test)\n",
    "cs"
   ]
  },
  {
   "cell_type": "code",
   "execution_count": 91,
   "id": "0fd5c28d",
   "metadata": {},
   "outputs": [
    {
     "data": {
      "text/plain": [
       "99.82000899955003"
      ]
     },
     "execution_count": 91,
     "metadata": {},
     "output_type": "execute_result"
    }
   ],
   "source": [
    "acc_s=cs.diagonal().sum()/cs.sum()*100\n",
    "acc_s"
   ]
  },
  {
   "cell_type": "code",
   "execution_count": 92,
   "id": "7f73edb4",
   "metadata": {},
   "outputs": [
    {
     "name": "stdout",
     "output_type": "stream",
     "text": [
      "              precision    recall  f1-score   support\n",
      "\n",
      "           0       1.00      1.00      1.00     19947\n",
      "           1       0.60      1.00      0.75        54\n",
      "\n",
      "    accuracy                           1.00     20001\n",
      "   macro avg       0.80      1.00      0.87     20001\n",
      "weighted avg       1.00      1.00      1.00     20001\n",
      "\n"
     ]
    }
   ],
   "source": [
    "print(classification_report(s_p,y_test))"
   ]
  },
  {
   "cell_type": "markdown",
   "id": "af8121c8",
   "metadata": {},
   "source": [
    "# Naive Bayes"
   ]
  },
  {
   "cell_type": "code",
   "execution_count": 93,
   "id": "27d40544",
   "metadata": {},
   "outputs": [],
   "source": [
    "from sklearn.naive_bayes import MultinomialNB\n",
    "nb=MultinomialNB()"
   ]
  },
  {
   "cell_type": "code",
   "execution_count": 94,
   "id": "f280b212",
   "metadata": {},
   "outputs": [
    {
     "data": {
      "text/plain": [
       "MultinomialNB()"
      ]
     },
     "execution_count": 94,
     "metadata": {},
     "output_type": "execute_result"
    }
   ],
   "source": [
    "nb.fit(x_train,y_train)"
   ]
  },
  {
   "cell_type": "code",
   "execution_count": 95,
   "id": "2ad00848",
   "metadata": {},
   "outputs": [],
   "source": [
    "n_p=nb.predict(x_test)\n",
    "#n_p"
   ]
  },
  {
   "cell_type": "code",
   "execution_count": 96,
   "id": "e65dc784",
   "metadata": {},
   "outputs": [
    {
     "data": {
      "text/plain": [
       "array([[19910,    31],\n",
       "       [    1,    59]], dtype=int64)"
      ]
     },
     "execution_count": 96,
     "metadata": {},
     "output_type": "execute_result"
    }
   ],
   "source": [
    "nc=confusion_matrix(n_p,y_test)\n",
    "nc"
   ]
  },
  {
   "cell_type": "code",
   "execution_count": 97,
   "id": "c187f124",
   "metadata": {},
   "outputs": [
    {
     "data": {
      "text/plain": [
       "99.84000799960002"
      ]
     },
     "execution_count": 97,
     "metadata": {},
     "output_type": "execute_result"
    }
   ],
   "source": [
    "acc_n=nc.diagonal().sum()/nc.sum()*100\n",
    "acc_n"
   ]
  },
  {
   "cell_type": "code",
   "execution_count": 98,
   "id": "08e7ca12",
   "metadata": {},
   "outputs": [
    {
     "name": "stdout",
     "output_type": "stream",
     "text": [
      "              precision    recall  f1-score   support\n",
      "\n",
      "           0       1.00      1.00      1.00     19941\n",
      "           1       0.66      0.98      0.79        60\n",
      "\n",
      "    accuracy                           1.00     20001\n",
      "   macro avg       0.83      0.99      0.89     20001\n",
      "weighted avg       1.00      1.00      1.00     20001\n",
      "\n"
     ]
    }
   ],
   "source": [
    "print(classification_report(n_p,y_test))"
   ]
  },
  {
   "cell_type": "markdown",
   "id": "373f4a90",
   "metadata": {},
   "source": [
    "# Logistic Regression"
   ]
  },
  {
   "cell_type": "code",
   "execution_count": 99,
   "id": "b01b73e8",
   "metadata": {},
   "outputs": [],
   "source": [
    "from  sklearn.linear_model import LogisticRegression\n",
    "lg=LogisticRegression()"
   ]
  },
  {
   "cell_type": "code",
   "execution_count": 100,
   "id": "3d4d4207",
   "metadata": {},
   "outputs": [
    {
     "data": {
      "text/plain": [
       "LogisticRegression()"
      ]
     },
     "execution_count": 100,
     "metadata": {},
     "output_type": "execute_result"
    }
   ],
   "source": [
    "lg.fit(x_train,y_train)"
   ]
  },
  {
   "cell_type": "code",
   "execution_count": 101,
   "id": "ec143f27",
   "metadata": {},
   "outputs": [],
   "source": [
    "lg_p1=lg.predict(x_test)\n",
    "#lg_p1"
   ]
  },
  {
   "cell_type": "code",
   "execution_count": 102,
   "id": "63f1a115",
   "metadata": {},
   "outputs": [
    {
     "data": {
      "text/plain": [
       "array([[9.99687366e-01, 3.12634072e-04],\n",
       "       [9.99999792e-01, 2.07557934e-07],\n",
       "       [9.95132558e-01, 4.86744226e-03],\n",
       "       ...,\n",
       "       [9.99990778e-01, 9.22230206e-06],\n",
       "       [9.99948145e-01, 5.18547368e-05],\n",
       "       [1.00000000e+00, 5.72370675e-13]])"
      ]
     },
     "execution_count": 102,
     "metadata": {},
     "output_type": "execute_result"
    }
   ],
   "source": [
    "lg_prob1=lg.predict_proba(x_test)\n",
    "lg_prob1"
   ]
  },
  {
   "cell_type": "code",
   "execution_count": 105,
   "id": "aaa45324",
   "metadata": {},
   "outputs": [],
   "source": [
    "from sklearn.metrics import confusion_matrix\n",
    "from sklearn import metrics"
   ]
  },
  {
   "cell_type": "code",
   "execution_count": 112,
   "id": "9eacc2a2",
   "metadata": {},
   "outputs": [
    {
     "name": "stdout",
     "output_type": "stream",
     "text": [
      "0.9982500874956253\n"
     ]
    }
   ],
   "source": [
    "print(metrics.accuracy_score(y_test,lg_p1))"
   ]
  },
  {
   "cell_type": "code",
   "execution_count": 113,
   "id": "91bca4d4",
   "metadata": {},
   "outputs": [
    {
     "data": {
      "text/plain": [
       "array([[19910,    34],\n",
       "       [    1,    56]], dtype=int64)"
      ]
     },
     "execution_count": 113,
     "metadata": {},
     "output_type": "execute_result"
    }
   ],
   "source": [
    "lg_m1=confusion_matrix(lg_p1,y_test)\n",
    "lg_m1"
   ]
  },
  {
   "cell_type": "code",
   "execution_count": 121,
   "id": "931ac833",
   "metadata": {},
   "outputs": [
    {
     "data": {
      "text/plain": [
       "99.82500874956253"
      ]
     },
     "execution_count": 121,
     "metadata": {},
     "output_type": "execute_result"
    }
   ],
   "source": [
    "lg_acc1=lg_m1.diagonal().sum()/lg_m1.sum()*100\n",
    "lg_acc1"
   ]
  },
  {
   "cell_type": "code",
   "execution_count": 122,
   "id": "1dfbabd2",
   "metadata": {},
   "outputs": [],
   "source": [
    "from sklearn.metrics import classification_report"
   ]
  },
  {
   "cell_type": "code",
   "execution_count": 140,
   "id": "39012e46",
   "metadata": {},
   "outputs": [],
   "source": [
    "list1=[\"Ada Boost\",\"Decision Tree Regressor\",\"Random Forest\",\"KNN\",\"SVM\",\"Naive Bayes\",\"Logistic Regression\"]\n",
    "list2=[ad_acc,dt_acc,rf_acc,kacc,acc_s,acc_n,lg_acc1]"
   ]
  },
  {
   "cell_type": "code",
   "execution_count": 141,
   "id": "ed50b9e1",
   "metadata": {},
   "outputs": [
    {
     "data": {
      "text/html": [
       "<div>\n",
       "<style scoped>\n",
       "    .dataframe tbody tr th:only-of-type {\n",
       "        vertical-align: middle;\n",
       "    }\n",
       "\n",
       "    .dataframe tbody tr th {\n",
       "        vertical-align: top;\n",
       "    }\n",
       "\n",
       "    .dataframe thead th {\n",
       "        text-align: right;\n",
       "    }\n",
       "</style>\n",
       "<table border=\"1\" class=\"dataframe\">\n",
       "  <thead>\n",
       "    <tr style=\"text-align: right;\">\n",
       "      <th></th>\n",
       "      <th>Model_Name</th>\n",
       "      <th>Accuracy</th>\n",
       "    </tr>\n",
       "  </thead>\n",
       "  <tbody>\n",
       "    <tr>\n",
       "      <th>0</th>\n",
       "      <td>Ada Boost</td>\n",
       "      <td>99.940003</td>\n",
       "    </tr>\n",
       "    <tr>\n",
       "      <th>1</th>\n",
       "      <td>Decision Tree Regressor</td>\n",
       "      <td>99.925004</td>\n",
       "    </tr>\n",
       "    <tr>\n",
       "      <th>2</th>\n",
       "      <td>Random Forest</td>\n",
       "      <td>99.900005</td>\n",
       "    </tr>\n",
       "    <tr>\n",
       "      <th>3</th>\n",
       "      <td>KNN</td>\n",
       "      <td>99.825009</td>\n",
       "    </tr>\n",
       "    <tr>\n",
       "      <th>4</th>\n",
       "      <td>SVM</td>\n",
       "      <td>99.820009</td>\n",
       "    </tr>\n",
       "    <tr>\n",
       "      <th>5</th>\n",
       "      <td>Naive Bayes</td>\n",
       "      <td>99.840008</td>\n",
       "    </tr>\n",
       "    <tr>\n",
       "      <th>6</th>\n",
       "      <td>Logistic Regression</td>\n",
       "      <td>99.825009</td>\n",
       "    </tr>\n",
       "  </tbody>\n",
       "</table>\n",
       "</div>"
      ],
      "text/plain": [
       "                Model_Name   Accuracy\n",
       "0                Ada Boost  99.940003\n",
       "1  Decision Tree Regressor  99.925004\n",
       "2            Random Forest  99.900005\n",
       "3                      KNN  99.825009\n",
       "4                      SVM  99.820009\n",
       "5              Naive Bayes  99.840008\n",
       "6      Logistic Regression  99.825009"
      ]
     },
     "execution_count": 141,
     "metadata": {},
     "output_type": "execute_result"
    }
   ],
   "source": [
    "final_result=pd.DataFrame({\"Model_Name\":list1,\"Accuracy\":list2})\n",
    "final_result"
   ]
  },
  {
   "cell_type": "markdown",
   "id": "e3839b27",
   "metadata": {},
   "source": [
    "# ClassImabalance"
   ]
  },
  {
   "cell_type": "markdown",
   "id": "cde4e44d",
   "metadata": {},
   "source": [
    "# Random Undersampling"
   ]
  },
  {
   "cell_type": "code",
   "execution_count": 158,
   "id": "63fe1703",
   "metadata": {},
   "outputs": [
    {
     "data": {
      "text/plain": [
       "(99524, 477)"
      ]
     },
     "execution_count": 158,
     "metadata": {},
     "output_type": "execute_result"
    }
   ],
   "source": [
    "c_0,c_1=df[\"isFraud\"].value_counts()\n",
    "c_0,c_1"
   ]
  },
  {
   "cell_type": "code",
   "execution_count": 159,
   "id": "8631a26f",
   "metadata": {},
   "outputs": [],
   "source": [
    "train_0=df[df[\"isFraud\"]==0]\n",
    "train_1=df[df[\"isFraud\"]==1]"
   ]
  },
  {
   "cell_type": "code",
   "execution_count": 160,
   "id": "54d1b2ca",
   "metadata": {},
   "outputs": [
    {
     "data": {
      "text/plain": [
       "((99524, 10), (477, 10))"
      ]
     },
     "execution_count": 160,
     "metadata": {},
     "output_type": "execute_result"
    }
   ],
   "source": [
    "train_0.shape,train_1.shape"
   ]
  },
  {
   "cell_type": "code",
   "execution_count": 161,
   "id": "96adefb7",
   "metadata": {},
   "outputs": [],
   "source": [
    "class_0under=train_0.sample(c_1)"
   ]
  },
  {
   "cell_type": "code",
   "execution_count": 162,
   "id": "5e5cfc50",
   "metadata": {},
   "outputs": [
    {
     "data": {
      "text/html": [
       "<div>\n",
       "<style scoped>\n",
       "    .dataframe tbody tr th:only-of-type {\n",
       "        vertical-align: middle;\n",
       "    }\n",
       "\n",
       "    .dataframe tbody tr th {\n",
       "        vertical-align: top;\n",
       "    }\n",
       "\n",
       "    .dataframe thead th {\n",
       "        text-align: right;\n",
       "    }\n",
       "</style>\n",
       "<table border=\"1\" class=\"dataframe\">\n",
       "  <thead>\n",
       "    <tr style=\"text-align: right;\">\n",
       "      <th></th>\n",
       "      <th>step</th>\n",
       "      <th>type</th>\n",
       "      <th>amount</th>\n",
       "      <th>nameOrig</th>\n",
       "      <th>oldbalanceOrg</th>\n",
       "      <th>newbalanceOrig</th>\n",
       "      <th>nameDest</th>\n",
       "      <th>oldbalanceDest</th>\n",
       "      <th>newbalanceDest</th>\n",
       "      <th>isFraud</th>\n",
       "    </tr>\n",
       "  </thead>\n",
       "  <tbody>\n",
       "    <tr>\n",
       "      <th>37020</th>\n",
       "      <td>9</td>\n",
       "      <td>3</td>\n",
       "      <td>3681.27</td>\n",
       "      <td>12450</td>\n",
       "      <td>51872.0</td>\n",
       "      <td>48190.73</td>\n",
       "      <td>18807</td>\n",
       "      <td>0.0</td>\n",
       "      <td>0.0</td>\n",
       "      <td>0</td>\n",
       "    </tr>\n",
       "  </tbody>\n",
       "</table>\n",
       "</div>"
      ],
      "text/plain": [
       "       step  type   amount  nameOrig  oldbalanceOrg  newbalanceOrig  nameDest  \\\n",
       "37020     9     3  3681.27     12450        51872.0        48190.73     18807   \n",
       "\n",
       "       oldbalanceDest  newbalanceDest  isFraud  \n",
       "37020             0.0             0.0        0  "
      ]
     },
     "execution_count": 162,
     "metadata": {},
     "output_type": "execute_result"
    }
   ],
   "source": [
    "class0_1=pd.concat([class_0under,train_1],axis=0)\n",
    "class0_1.head(1)\n",
    "#class0_1.shape"
   ]
  },
  {
   "cell_type": "code",
   "execution_count": 163,
   "id": "ff775792",
   "metadata": {},
   "outputs": [
    {
     "data": {
      "text/plain": [
       "0    477\n",
       "1    477\n",
       "Name: isFraud, dtype: int64"
      ]
     },
     "execution_count": 163,
     "metadata": {},
     "output_type": "execute_result"
    }
   ],
   "source": [
    "class0_1.isFraud.value_counts()"
   ]
  },
  {
   "cell_type": "code",
   "execution_count": 164,
   "id": "9f80050f",
   "metadata": {},
   "outputs": [],
   "source": [
    "u_x=class0_1.iloc[:,0:8]\n",
    "u_y=class0_1.iloc[:,-1]"
   ]
  },
  {
   "cell_type": "code",
   "execution_count": 165,
   "id": "3500be82",
   "metadata": {},
   "outputs": [
    {
     "data": {
      "text/plain": [
       "((763, 8), (191, 8), (763,), (191,))"
      ]
     },
     "execution_count": 165,
     "metadata": {},
     "output_type": "execute_result"
    }
   ],
   "source": [
    "u_x_train,u_x_test,u_y_train,u_y_test=train_test_split(u_x,u_y,test_size=0.2,random_state=100)\n",
    "u_x_train.shape,u_x_test.shape,u_y_train.shape,u_y_test.shape"
   ]
  },
  {
   "cell_type": "markdown",
   "id": "3c46954b",
   "metadata": {},
   "source": [
    "# Ada Boost with Random Undersampling"
   ]
  },
  {
   "cell_type": "code",
   "execution_count": 166,
   "id": "f949b05c",
   "metadata": {},
   "outputs": [
    {
     "data": {
      "text/plain": [
       "AdaBoostClassifier(base_estimator=DecisionTreeClassifier(), n_estimators=2)"
      ]
     },
     "execution_count": 166,
     "metadata": {},
     "output_type": "execute_result"
    }
   ],
   "source": [
    "ad.fit(u_x_train,u_y_train)"
   ]
  },
  {
   "cell_type": "code",
   "execution_count": 167,
   "id": "562748dc",
   "metadata": {},
   "outputs": [],
   "source": [
    "op=ad.predict(u_x_test)"
   ]
  },
  {
   "cell_type": "code",
   "execution_count": 168,
   "id": "a2d150c0",
   "metadata": {},
   "outputs": [
    {
     "data": {
      "text/plain": [
       "array([[94,  1],\n",
       "       [ 2, 94]], dtype=int64)"
      ]
     },
     "execution_count": 168,
     "metadata": {},
     "output_type": "execute_result"
    }
   ],
   "source": [
    "o_cf=confusion_matrix(op,u_y_test)\n",
    "o_cf"
   ]
  },
  {
   "cell_type": "code",
   "execution_count": 169,
   "id": "d29491db",
   "metadata": {},
   "outputs": [
    {
     "data": {
      "text/plain": [
       "98.42931937172776"
      ]
     },
     "execution_count": 169,
     "metadata": {},
     "output_type": "execute_result"
    }
   ],
   "source": [
    "ad1_acc=o_cf.diagonal().sum()/o_cf.sum()*100\n",
    "ad1_acc\n"
   ]
  },
  {
   "cell_type": "code",
   "execution_count": 170,
   "id": "90609cff",
   "metadata": {},
   "outputs": [
    {
     "name": "stdout",
     "output_type": "stream",
     "text": [
      "              precision    recall  f1-score   support\n",
      "\n",
      "           0       0.98      0.99      0.98        95\n",
      "           1       0.99      0.98      0.98        96\n",
      "\n",
      "    accuracy                           0.98       191\n",
      "   macro avg       0.98      0.98      0.98       191\n",
      "weighted avg       0.98      0.98      0.98       191\n",
      "\n"
     ]
    }
   ],
   "source": [
    "print(classification_report(op,u_y_test))"
   ]
  },
  {
   "cell_type": "markdown",
   "id": "0019f6dd",
   "metadata": {},
   "source": [
    "# Decision Tree Regressor with Random Undersampling"
   ]
  },
  {
   "cell_type": "code",
   "execution_count": 171,
   "id": "e236cd0c",
   "metadata": {},
   "outputs": [
    {
     "data": {
      "text/plain": [
       "DecisionTreeRegressor()"
      ]
     },
     "execution_count": 171,
     "metadata": {},
     "output_type": "execute_result"
    }
   ],
   "source": [
    "from sklearn.tree import DecisionTreeRegressor\n",
    "dtr=DecisionTreeRegressor()\n",
    "dtr.fit(u_x_train,u_y_train)"
   ]
  },
  {
   "cell_type": "code",
   "execution_count": 264,
   "id": "698482e5",
   "metadata": {},
   "outputs": [],
   "source": [
    "dtr_p=dtr.predict(u_x_test)"
   ]
  },
  {
   "cell_type": "code",
   "execution_count": 265,
   "id": "a57b2a25",
   "metadata": {},
   "outputs": [
    {
     "data": {
      "text/plain": [
       "array([[95,  1],\n",
       "       [ 1, 94]], dtype=int64)"
      ]
     },
     "execution_count": 265,
     "metadata": {},
     "output_type": "execute_result"
    }
   ],
   "source": [
    "dtr_cf1=confusion_matrix(dtr_p,u_y_test)\n",
    "dtr_cf1\n"
   ]
  },
  {
   "cell_type": "code",
   "execution_count": 268,
   "id": "e66818aa",
   "metadata": {},
   "outputs": [
    {
     "data": {
      "text/plain": [
       "98.95287958115183"
      ]
     },
     "execution_count": 268,
     "metadata": {},
     "output_type": "execute_result"
    }
   ],
   "source": [
    "dtr_acc=dtr_cf1.diagonal().sum()/dtr_cf1.sum()*100\n",
    "dtr1_acc\n"
   ]
  },
  {
   "cell_type": "code",
   "execution_count": 269,
   "id": "f7e0309e",
   "metadata": {},
   "outputs": [
    {
     "name": "stdout",
     "output_type": "stream",
     "text": [
      "              precision    recall  f1-score   support\n",
      "\n",
      "         0.0       0.99      0.99      0.99        96\n",
      "         1.0       0.99      0.99      0.99        95\n",
      "\n",
      "    accuracy                           0.99       191\n",
      "   macro avg       0.99      0.99      0.99       191\n",
      "weighted avg       0.99      0.99      0.99       191\n",
      "\n"
     ]
    }
   ],
   "source": [
    "print(classification_report(dtr_p,u_y_test))"
   ]
  },
  {
   "cell_type": "code",
   "execution_count": 270,
   "id": "7389956b",
   "metadata": {},
   "outputs": [],
   "source": [
    "from sklearn.metrics import precision_score,recall_score,f1_score\n",
    "dtr_precision=precision_score(dtr_p,u_y_test)\n",
    "dtr_score=recall_score(dtr_p,u_y_test)\n",
    "dtr_f1=f1_score(dtr_p,u_y_test)"
   ]
  },
  {
   "cell_type": "code",
   "execution_count": 307,
   "id": "2be7304a",
   "metadata": {},
   "outputs": [
    {
     "name": "stdout",
     "output_type": "stream",
     "text": [
      "0.9895285087719299\n",
      "0.9895285087719299\n",
      "0.9895285087719299\n"
     ]
    }
   ],
   "source": [
    "from sklearn.metrics import accuracy_score, f1_score, precision_score, recall_score, classification_report, confusion_matrix\n",
    "f=print(f1_score(u_y_test, dtr_p, average=\"macro\"))\n",
    "p=print(precision_score(u_y_test,dtr_p, average=\"macro\"))\n",
    "r=print(recall_score(u_y_test,dtr_p, average=\"macro\"))"
   ]
  },
  {
   "cell_type": "code",
   "execution_count": 308,
   "id": "255ba4d4",
   "metadata": {},
   "outputs": [],
   "source": [
    "from sklearn.metrics import roc_auc_score\n",
    "from sklearn.metrics import roc_curve\n",
    "0.98952850\n",
    "0.98952850\n",
    "0.98952850"
   ]
  },
  {
   "cell_type": "code",
   "execution_count": 309,
   "id": "6ff7f7fc",
   "metadata": {},
   "outputs": [
    {
     "data": {
      "text/plain": [
       "0.9895285087719298"
      ]
     },
     "execution_count": 309,
     "metadata": {},
     "output_type": "execute_result"
    }
   ],
   "source": [
    "roc1=roc_auc_score(dtr_p,u_y_test)\n",
    "roc1"
   ]
  },
  {
   "cell_type": "code",
   "execution_count": 311,
   "id": "7ff2cff1",
   "metadata": {},
   "outputs": [],
   "source": [
    "#dtr_prob=dtr.predict_proba(u_x_test)\n",
    "#dtr"
   ]
  },
  {
   "cell_type": "code",
   "execution_count": 285,
   "id": "a05a5e1d",
   "metadata": {},
   "outputs": [],
   "source": [
    "#df3=pd.DataFrame(dtr_prob)"
   ]
  },
  {
   "cell_type": "code",
   "execution_count": 286,
   "id": "27c6b4b4",
   "metadata": {},
   "outputs": [],
   "source": [
    "fpr,tpr,threshold=roc_curve(u_y_test,df3.iloc[:,1])"
   ]
  },
  {
   "cell_type": "code",
   "execution_count": 276,
   "id": "5afe735f",
   "metadata": {},
   "outputs": [
    {
     "data": {
      "text/plain": [
       "Text(0.5, 1.0, 'AUC-ROC Curve')"
      ]
     },
     "execution_count": 276,
     "metadata": {},
     "output_type": "execute_result"
    },
    {
     "data": {
      "image/png": "[encoded data removed]",
      "text/plain": [
       "<Figure size 640x480 with 1 Axes>"
      ]
     },
     "metadata": {},
     "output_type": "display_data"
    }
   ],
   "source": [
    "plt.plot(fpr,tpr)\n",
    "plt.xlabel(\"False Positive Rate\")\n",
    "plt.ylabel(\"True Positive Rate\")\n",
    "plt.title(\"AUC-ROC Curve\")"
   ]
  },
  {
   "cell_type": "markdown",
   "id": "4e0ef3b8",
   "metadata": {},
   "source": [
    "# Random Forest with Random Undersampling\n"
   ]
  },
  {
   "cell_type": "code",
   "execution_count": 280,
   "id": "fdc32c98",
   "metadata": {},
   "outputs": [
    {
     "data": {
      "text/plain": [
       "RandomForestClassifier()"
      ]
     },
     "execution_count": 280,
     "metadata": {},
     "output_type": "execute_result"
    }
   ],
   "source": [
    "from sklearn.ensemble  import RandomForestClassifier\n",
    "rf1=RandomForestClassifier()\n",
    "rf1.fit(u_x_train,u_y_train)"
   ]
  },
  {
   "cell_type": "code",
   "execution_count": 281,
   "id": "f3ab75c9",
   "metadata": {},
   "outputs": [],
   "source": [
    "rf1_p=rf1.predict(u_x_test)"
   ]
  },
  {
   "cell_type": "code",
   "execution_count": 282,
   "id": "e94bb575",
   "metadata": {},
   "outputs": [
    {
     "data": {
      "text/plain": [
       "array([[95,  3],\n",
       "       [ 1, 92]], dtype=int64)"
      ]
     },
     "execution_count": 282,
     "metadata": {},
     "output_type": "execute_result"
    }
   ],
   "source": [
    "rf1_cf1=confusion_matrix(rf1_p,u_y_test)\n",
    "rf1_cf1"
   ]
  },
  {
   "cell_type": "code",
   "execution_count": 283,
   "id": "02ab65d7",
   "metadata": {},
   "outputs": [
    {
     "data": {
      "text/plain": [
       "97.90575916230367"
      ]
     },
     "execution_count": 283,
     "metadata": {},
     "output_type": "execute_result"
    }
   ],
   "source": [
    "rf1_acc=rf1_cf1.diagonal().sum()/rf1_cf1.sum()*100\n",
    "rf1_acc"
   ]
  },
  {
   "cell_type": "code",
   "execution_count": 221,
   "id": "e54a12a9",
   "metadata": {},
   "outputs": [],
   "source": [
    "from sklearn.metrics import classification_report"
   ]
  },
  {
   "cell_type": "code",
   "execution_count": 222,
   "id": "d900a92e",
   "metadata": {},
   "outputs": [
    {
     "name": "stdout",
     "output_type": "stream",
     "text": [
      "              precision    recall  f1-score   support\n",
      "\n",
      "           0       0.99      0.98      0.98        97\n",
      "           1       0.98      0.99      0.98        94\n",
      "\n",
      "    accuracy                           0.98       191\n",
      "   macro avg       0.98      0.98      0.98       191\n",
      "weighted avg       0.98      0.98      0.98       191\n",
      "\n"
     ]
    }
   ],
   "source": [
    "print(classification_report(rf1_p,u_y_test))"
   ]
  },
  {
   "cell_type": "markdown",
   "id": "dd426e12",
   "metadata": {},
   "source": [
    "# KNN with Random Undersampling"
   ]
  },
  {
   "cell_type": "code",
   "execution_count": 287,
   "id": "bf372554",
   "metadata": {},
   "outputs": [
    {
     "data": {
      "text/plain": [
       "KNeighborsClassifier(n_neighbors=29)"
      ]
     },
     "execution_count": 287,
     "metadata": {},
     "output_type": "execute_result"
    }
   ],
   "source": [
    "knn.fit(u_x_train,u_y_train)"
   ]
  },
  {
   "cell_type": "code",
   "execution_count": 288,
   "id": "d8c344ea",
   "metadata": {},
   "outputs": [],
   "source": [
    "op=knn.predict(u_x_test)"
   ]
  },
  {
   "cell_type": "code",
   "execution_count": 289,
   "id": "3dae9acb",
   "metadata": {},
   "outputs": [
    {
     "data": {
      "text/plain": [
       "array([[94, 19],\n",
       "       [ 2, 76]], dtype=int64)"
      ]
     },
     "execution_count": 289,
     "metadata": {},
     "output_type": "execute_result"
    }
   ],
   "source": [
    "o_cf=confusion_matrix(op,u_y_test)\n",
    "o_cf"
   ]
  },
  {
   "cell_type": "code",
   "execution_count": 290,
   "id": "5fda9094",
   "metadata": {},
   "outputs": [
    {
     "data": {
      "text/plain": [
       "89.00523560209425"
      ]
     },
     "execution_count": 290,
     "metadata": {},
     "output_type": "execute_result"
    }
   ],
   "source": [
    "knn1_acc=o_cf.diagonal().sum()/o_cf.sum()*100\n",
    "knn1_acc"
   ]
  },
  {
   "cell_type": "code",
   "execution_count": 291,
   "id": "82fc40d7",
   "metadata": {},
   "outputs": [
    {
     "name": "stdout",
     "output_type": "stream",
     "text": [
      "              precision    recall  f1-score   support\n",
      "\n",
      "           0       0.98      0.83      0.90       113\n",
      "           1       0.80      0.97      0.88        78\n",
      "\n",
      "    accuracy                           0.89       191\n",
      "   macro avg       0.89      0.90      0.89       191\n",
      "weighted avg       0.91      0.89      0.89       191\n",
      "\n"
     ]
    }
   ],
   "source": [
    "print(classification_report(op,u_y_test))"
   ]
  },
  {
   "cell_type": "markdown",
   "id": "8034abba",
   "metadata": {},
   "source": [
    "# SVM with under sampling"
   ]
  },
  {
   "cell_type": "code",
   "execution_count": 292,
   "id": "c901e665",
   "metadata": {},
   "outputs": [
    {
     "data": {
      "text/plain": [
       "SVC()"
      ]
     },
     "execution_count": 292,
     "metadata": {},
     "output_type": "execute_result"
    }
   ],
   "source": [
    "svc.fit(u_x_train,u_y_train)"
   ]
  },
  {
   "cell_type": "code",
   "execution_count": 293,
   "id": "03e341c4",
   "metadata": {},
   "outputs": [],
   "source": [
    "op=svc.predict(u_x_test)"
   ]
  },
  {
   "cell_type": "code",
   "execution_count": 294,
   "id": "a02b09d8",
   "metadata": {},
   "outputs": [
    {
     "data": {
      "text/plain": [
       "array([[96, 37],\n",
       "       [ 0, 58]], dtype=int64)"
      ]
     },
     "execution_count": 294,
     "metadata": {},
     "output_type": "execute_result"
    }
   ],
   "source": [
    "o_cf=confusion_matrix(op,u_y_test)\n",
    "o_cf"
   ]
  },
  {
   "cell_type": "code",
   "execution_count": 295,
   "id": "2f7fd425",
   "metadata": {},
   "outputs": [
    {
     "data": {
      "text/plain": [
       "80.6282722513089"
      ]
     },
     "execution_count": 295,
     "metadata": {},
     "output_type": "execute_result"
    }
   ],
   "source": [
    "svc1_acc=o_cf.diagonal().sum()/o_cf.sum()*100\n",
    "svc1_acc"
   ]
  },
  {
   "cell_type": "code",
   "execution_count": 296,
   "id": "7d4af877",
   "metadata": {},
   "outputs": [
    {
     "name": "stdout",
     "output_type": "stream",
     "text": [
      "              precision    recall  f1-score   support\n",
      "\n",
      "           0       1.00      0.72      0.84       133\n",
      "           1       0.61      1.00      0.76        58\n",
      "\n",
      "    accuracy                           0.81       191\n",
      "   macro avg       0.81      0.86      0.80       191\n",
      "weighted avg       0.88      0.81      0.81       191\n",
      "\n"
     ]
    }
   ],
   "source": [
    "print(classification_report(op,u_y_test))"
   ]
  },
  {
   "cell_type": "markdown",
   "id": "74a2998e",
   "metadata": {},
   "source": [
    "# Logistic Regression with Random Undersampling"
   ]
  },
  {
   "cell_type": "code",
   "execution_count": 297,
   "id": "42db4d50",
   "metadata": {},
   "outputs": [
    {
     "data": {
      "text/plain": [
       "LogisticRegression()"
      ]
     },
     "execution_count": 297,
     "metadata": {},
     "output_type": "execute_result"
    }
   ],
   "source": [
    "from  sklearn.linear_model import LogisticRegression\n",
    "lg1=LogisticRegression()\n",
    "lg1.fit(u_x_train,u_y_train)"
   ]
  },
  {
   "cell_type": "code",
   "execution_count": 298,
   "id": "58048168",
   "metadata": {},
   "outputs": [],
   "source": [
    "op=lg1.predict(u_x_test)"
   ]
  },
  {
   "cell_type": "code",
   "execution_count": 299,
   "id": "99ab0506",
   "metadata": {},
   "outputs": [
    {
     "data": {
      "text/plain": [
       "array([[0.717497  , 0.282503  ],\n",
       "       [0.8705593 , 0.1294407 ],\n",
       "       [0.82138163, 0.17861837],\n",
       "       ...,\n",
       "       [0.91904631, 0.08095369],\n",
       "       [0.94234534, 0.05765466],\n",
       "       [0.98793295, 0.01206705]])"
      ]
     },
     "execution_count": 299,
     "metadata": {},
     "output_type": "execute_result"
    }
   ],
   "source": [
    "lg1_prob=lg1.predict_proba(x_test)\n",
    "lg1_prob"
   ]
  },
  {
   "cell_type": "code",
   "execution_count": 300,
   "id": "bd6fc609",
   "metadata": {},
   "outputs": [
    {
     "data": {
      "text/plain": [
       "array([[93, 26],\n",
       "       [ 3, 69]], dtype=int64)"
      ]
     },
     "execution_count": 300,
     "metadata": {},
     "output_type": "execute_result"
    }
   ],
   "source": [
    "o_cf=confusion_matrix(op,u_y_test)\n",
    "o_cf"
   ]
  },
  {
   "cell_type": "code",
   "execution_count": 301,
   "id": "0cd98624",
   "metadata": {},
   "outputs": [
    {
     "data": {
      "text/plain": [
       "84.81675392670157"
      ]
     },
     "execution_count": 301,
     "metadata": {},
     "output_type": "execute_result"
    }
   ],
   "source": [
    "lg11_acc=o_cf.diagonal().sum()/o_cf.sum()*100\n",
    "lg11_acc"
   ]
  },
  {
   "cell_type": "code",
   "execution_count": 302,
   "id": "188f9e6d",
   "metadata": {},
   "outputs": [
    {
     "name": "stdout",
     "output_type": "stream",
     "text": [
      "              precision    recall  f1-score   support\n",
      "\n",
      "           0       0.97      0.78      0.87       119\n",
      "           1       0.73      0.96      0.83        72\n",
      "\n",
      "    accuracy                           0.85       191\n",
      "   macro avg       0.85      0.87      0.85       191\n",
      "weighted avg       0.88      0.85      0.85       191\n",
      "\n"
     ]
    }
   ],
   "source": [
    "a=print(classification_report(op,u_y_test))"
   ]
  },
  {
   "cell_type": "code",
   "execution_count": 303,
   "id": "c60bdf86",
   "metadata": {},
   "outputs": [],
   "source": [
    "list1=[\"Ada Boost\",\"Decision Tree Regressor\",\"Random Forest\",\"KNN\",\"SVM\",\"Logistic Regression\"]\n",
    "list2=[ad1_acc,dtr1_acc,rf1_acc,knn1_acc,svc1_acc,lg11_acc]"
   ]
  },
  {
   "cell_type": "code",
   "execution_count": 304,
   "id": "1eef9cb5",
   "metadata": {},
   "outputs": [
    {
     "data": {
      "text/html": [
       "<div>\n",
       "<style scoped>\n",
       "    .dataframe tbody tr th:only-of-type {\n",
       "        vertical-align: middle;\n",
       "    }\n",
       "\n",
       "    .dataframe tbody tr th {\n",
       "        vertical-align: top;\n",
       "    }\n",
       "\n",
       "    .dataframe thead th {\n",
       "        text-align: right;\n",
       "    }\n",
       "</style>\n",
       "<table border=\"1\" class=\"dataframe\">\n",
       "  <thead>\n",
       "    <tr style=\"text-align: right;\">\n",
       "      <th></th>\n",
       "      <th>Model_Name</th>\n",
       "      <th>Accuracy</th>\n",
       "    </tr>\n",
       "  </thead>\n",
       "  <tbody>\n",
       "    <tr>\n",
       "      <th>0</th>\n",
       "      <td>Ada Boost</td>\n",
       "      <td>98.429319</td>\n",
       "    </tr>\n",
       "    <tr>\n",
       "      <th>1</th>\n",
       "      <td>Decision Tree Regressor</td>\n",
       "      <td>98.952880</td>\n",
       "    </tr>\n",
       "    <tr>\n",
       "      <th>2</th>\n",
       "      <td>Random Forest</td>\n",
       "      <td>97.905759</td>\n",
       "    </tr>\n",
       "    <tr>\n",
       "      <th>3</th>\n",
       "      <td>KNN</td>\n",
       "      <td>89.005236</td>\n",
       "    </tr>\n",
       "    <tr>\n",
       "      <th>4</th>\n",
       "      <td>SVM</td>\n",
       "      <td>80.628272</td>\n",
       "    </tr>\n",
       "    <tr>\n",
       "      <th>5</th>\n",
       "      <td>Logistic Regression</td>\n",
       "      <td>84.816754</td>\n",
       "    </tr>\n",
       "  </tbody>\n",
       "</table>\n",
       "</div>"
      ],
      "text/plain": [
       "                Model_Name   Accuracy\n",
       "0                Ada Boost  98.429319\n",
       "1  Decision Tree Regressor  98.952880\n",
       "2            Random Forest  97.905759\n",
       "3                      KNN  89.005236\n",
       "4                      SVM  80.628272\n",
       "5      Logistic Regression  84.816754"
      ]
     },
     "execution_count": 304,
     "metadata": {},
     "output_type": "execute_result"
    }
   ],
   "source": [
    "final_result1=pd.DataFrame({\"Model_Name\":list1,\"Accuracy\":list2})\n",
    "final_result1"
   ]
  },
  {
   "cell_type": "markdown",
   "id": "f9309592",
   "metadata": {},
   "source": [
    "From the final_result, Decision Tree Regressor model is better fitted to this dataset as compair to other model."
   ]
  }
 ],
 "metadata": {
  "kernelspec": {
   "display_name": "Python 3 (ipykernel)",
   "language": "python",
   "name": "python3"
  },
  "language_info": {
   "codemirror_mode": {
    "name": "ipython",
    "version": 3
   },
   "file_extension": ".py",
   "mimetype": "text/x-python",
   "name": "python",
   "nbconvert_exporter": "python",
   "pygments_lexer": "ipython3",
   "version": "3.9.13"
  }
 },
 "nbformat": 4,
 "nbformat_minor": 5
}
